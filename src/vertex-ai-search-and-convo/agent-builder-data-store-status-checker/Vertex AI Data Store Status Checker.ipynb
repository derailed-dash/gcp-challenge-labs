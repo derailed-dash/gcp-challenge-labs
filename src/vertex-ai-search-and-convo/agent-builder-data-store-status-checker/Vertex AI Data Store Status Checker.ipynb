{
 "cells": [
  {
   "cell_type": "code",
   "execution_count": null,
   "id": "7d17ea89-3c2d-490f-b225-510999db39ab",
   "metadata": {
    "tags": []
   },
   "outputs": [],
   "source": [
    "pip install --upgrade google-cloud-discoveryengine humanize"
   ]
  },
  {
   "cell_type": "markdown",
   "id": "cfeab570-6e67-4acc-a640-6373a2ed4fef",
   "metadata": {},
   "source": [
    "## Create Helper Methods"
   ]
  },
  {
   "cell_type": "code",
   "execution_count": null,
   "id": "2cac214b-8003-483e-b95f-7b6b1950a3ae",
   "metadata": {
    "tags": []
   },
   "outputs": [],
   "source": [
    "import humanize\n",
    "import time\n",
    "import re\n",
    "from typing import List, Optional\n",
    "\n",
    "from google.api_core.client_options import ClientOptions\n",
    "from google.cloud import discoveryengine_v1beta as discoveryengine\n",
    "\n",
    "\n",
    "def _call_list_documents(\n",
    "    project_id: str, location: str, datastore_id: str, page_token: Optional[str] = None\n",
    ") -> discoveryengine.ListDocumentsResponse:\n",
    "    \"\"\"Build the List Docs Request payload.\"\"\"\n",
    "    client_options = (\n",
    "        ClientOptions(\n",
    "            api_endpoint=f\"{location}-discoveryengine.googleapis.com\")\n",
    "        if location != \"global\"\n",
    "        else None\n",
    "    )\n",
    "    client = discoveryengine.DocumentServiceClient(\n",
    "        client_options=client_options)\n",
    "\n",
    "    request = discoveryengine.ListDocumentsRequest(\n",
    "        parent=client.branch_path(\n",
    "            project_id, location, datastore_id, \"default_branch\"\n",
    "        ),\n",
    "        page_size=1000,\n",
    "        page_token=page_token,\n",
    "    )\n",
    "\n",
    "    return client.list_documents(request=request)\n",
    "\n",
    "\n",
    "def list_documents(\n",
    "    project_id: str, location: str, datastore_id: str, rate_limit: int = 1\n",
    ") -> List[discoveryengine.Document]:\n",
    "    \"\"\"Gets a list of docs in a datastore.\"\"\"\n",
    "\n",
    "    res = _call_list_documents(project_id, location, datastore_id)\n",
    "\n",
    "    # setup the list with the first batch of docs\n",
    "    docs = res.documents\n",
    "\n",
    "    while res.next_page_token:\n",
    "        # implement a rate_limit to prevent quota exhaustion\n",
    "        time.sleep(rate_limit)\n",
    "\n",
    "        res = _call_list_documents(\n",
    "            project_id, location, datastore_id, res.next_page_token\n",
    "        )\n",
    "        docs.extend(res.documents)\n",
    "\n",
    "    return docs\n",
    "\n",
    "\n",
    "def list_indexed_urls(\n",
    "    docs: Optional[List[discoveryengine.Document]] = None,\n",
    "    project_id: str = None,\n",
    "    location: str = None,\n",
    "    datastore_id: str = None,\n",
    ") -> List[str]:\n",
    "    \"\"\"Get the list of docs in data store, then parse to only urls.\"\"\"\n",
    "    if not docs:\n",
    "        docs = list_documents(project_id, location, datastore_id)\n",
    "    urls = [doc.content.uri for doc in docs]\n",
    "\n",
    "    return urls\n",
    "\n",
    "\n",
    "def search_url(urls: List[str], url: str) -> None:\n",
    "    \"\"\"Searches a url in a list of urls.\"\"\"\n",
    "    for item in urls:\n",
    "        if url in item:\n",
    "            print(item)\n",
    "\n",
    "\n",
    "def search_doc_id(\n",
    "    doc_id: str,\n",
    "    docs: Optional[List[discoveryengine.Document]] = None,\n",
    "    project_id: str = None,\n",
    "    location: str = None,\n",
    "    datastore_id: str = None,\n",
    ") -> None:\n",
    "    \"\"\"Searches a doc_id in a list of docs.\"\"\"\n",
    "    if not docs:\n",
    "        docs = list_documents(project_id, location, datastore_id)\n",
    "\n",
    "    doc_found = False\n",
    "    for doc in docs:\n",
    "        if doc.parent_document_id == doc_id:\n",
    "            doc_found = True\n",
    "            print(doc)\n",
    "\n",
    "    if not doc_found:\n",
    "        print(f\"Document not found for provided Doc ID: `{doc_id}`\")\n",
    "\n",
    "\n",
    "def estimate_data_store_size(\n",
    "    urls: Optional[List[str]] = None,\n",
    "    docs: Optional[List[discoveryengine.Document]] = None,\n",
    "    project_id: str = None,\n",
    "    location: str = None,\n",
    "    datastore_id: str = None,\n",
    ") -> None:\n",
    "    \"\"\"For Advanced Website Indexing data stores only.\"\"\"\n",
    "    if not urls:\n",
    "        if not docs:\n",
    "            docs = list_documents(project_id, location, datastore_id)\n",
    "        urls = list_indexed_urls(docs=docs)\n",
    "\n",
    "    # Filter to only include website urls.\n",
    "    urls = list(filter(lambda x: re.search(r\"https?://\", x), urls))\n",
    "\n",
    "    if not urls:\n",
    "        print(\n",
    "            \"No urls found. Make sure this data store is for websites with advanced indexing.\"\n",
    "        )\n",
    "        return\n",
    "\n",
    "    # For website indexing, each page is calculated as 500KB.\n",
    "    size = len(urls) * 500_000\n",
    "    print(f\"Estimated data store size: {humanize.naturalsize(size)}\")\n",
    "\n",
    "\n",
    "PENDING_MESSAGE = \"\"\"\n",
    "No docs found.\\n\\nIt\\'s likely one of the following issues: \\n  [1] Your data store is not finished indexing. \\n  [2] Your data store failed indexing. \\n  [3] Your data store is for website data without advanced indexing.\\n\\n\n",
    "If you just added your data store, it can take up to 4 hours before it will become available.\n",
    "\"\"\""
   ]
  },
  {
   "cell_type": "markdown",
   "id": "fb88bc2e-d36f-467d-b283-025438899913",
   "metadata": {},
   "source": [
    "## Check Indexing Status"
   ]
  },
  {
   "cell_type": "code",
   "execution_count": null,
   "id": "3dd6c3b2-44f4-4c23-bb25-ec1796d4ef5f",
   "metadata": {
    "tags": []
   },
   "outputs": [],
   "source": [
    "PROJECT = !gcloud config get-value project\n",
    "project_id  = PROJECT[0]\n",
    "location = \"global\"  # Options: \"global\", \"us\", \"eu\"\n",
    "datastore_id = \"cymbaldatastore_1730628508339\""
   ]
  },
  {
   "cell_type": "code",
   "execution_count": null,
   "id": "6e7095ee-6731-4947-b633-764f09e9ab2c",
   "metadata": {
    "tags": []
   },
   "outputs": [],
   "source": [
    "docs = list_documents(project_id, location, datastore_id)\n",
    "\n",
    "if len(docs) == 0:\n",
    "    print(PENDING_MESSAGE)\n",
    "else:\n",
    "    SUCCESS_MESSAGE = f\"\"\"\n",
    "  Success! 🎉\\n\n",
    "  Your indexing is complete.\\n\n",
    "  Your index contains {len(docs)} documents.\n",
    "  \"\"\"\n",
    "    print(SUCCESS_MESSAGE)"
   ]
  },
  {
   "cell_type": "markdown",
   "id": "abba5f54-8889-40b0-b082-a80fa4dacbb2",
   "metadata": {},
   "source": [
    "## List available docs"
   ]
  },
  {
   "cell_type": "code",
   "execution_count": null,
   "id": "dc899c89-fed1-483d-b043-10376e940b81",
   "metadata": {
    "tags": []
   },
   "outputs": [],
   "source": [
    "# only works once indexing is complete\n",
    "docs = list_documents(project_id, location, datastore_id)\n",
    "docs[0]"
   ]
  },
  {
   "cell_type": "markdown",
   "id": "e4b5e3e6-cdee-4edb-b1b4-8422c6ef1212",
   "metadata": {},
   "source": [
    "## Retrieve a Specific Doc by Doc ID"
   ]
  },
  {
   "cell_type": "code",
   "execution_count": null,
   "id": "0606ec9d-8e0d-460b-b663-9fe8e6c5695e",
   "metadata": {
    "tags": []
   },
   "outputs": [],
   "source": [
    "document_id = \"placeholder_document_id\"\n",
    "search_doc_id(document_id, docs=docs)"
   ]
  },
  {
   "cell_type": "markdown",
   "id": "9e3c97b8-4e03-42ac-9ddb-1005554c7f00",
   "metadata": {},
   "source": [
    "## List Indexed URLs"
   ]
  },
  {
   "cell_type": "code",
   "execution_count": null,
   "id": "2c3777d2-ea0d-45f5-b9a3-760c09800fd5",
   "metadata": {
    "tags": []
   },
   "outputs": [],
   "source": [
    "urls = list_indexed_urls(docs=docs)\n",
    "urls[0]"
   ]
  },
  {
   "cell_type": "code",
   "execution_count": null,
   "id": "7067c20f-7e69-405d-9cf7-16ceb3b2d607",
   "metadata": {},
   "outputs": [],
   "source": []
  }
 ],
 "metadata": {
  "environment": {
   "kernel": "conda-base-py",
   "name": "workbench-notebooks.m125",
   "type": "gcloud",
   "uri": "us-docker.pkg.dev/deeplearning-platform-release/gcr.io/workbench-notebooks:m125"
  },
  "kernelspec": {
   "display_name": "Python 3 (ipykernel) (Local) (Local)",
   "language": "python",
   "name": "conda-base-py"
  },
  "language_info": {
   "codemirror_mode": {
    "name": "ipython",
    "version": 3
   },
   "file_extension": ".py",
   "mimetype": "text/x-python",
   "name": "python",
   "nbconvert_exporter": "python",
   "pygments_lexer": "ipython3",
   "version": "3.10.15"
  }
 },
 "nbformat": 4,
 "nbformat_minor": 5
}
