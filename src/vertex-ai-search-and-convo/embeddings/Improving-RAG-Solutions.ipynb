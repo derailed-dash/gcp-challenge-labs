{
 "cells": [
  {
   "cell_type": "code",
   "execution_count": null,
   "id": "00cefc86-52a7-45ae-b48f-6bd02ec8d1b8",
   "metadata": {
    "tags": []
   },
   "outputs": [],
   "source": [
    "!pip3 install --upgrade --user google-cloud-aiplatform umap-learn tqdm pypdf"
   ]
  },
  {
   "cell_type": "code",
   "execution_count": 2,
   "id": "f7a113cc-c537-4de7-8c0f-a5f4a2c6f980",
   "metadata": {
    "tags": []
   },
   "outputs": [
    {
     "data": {
      "text/plain": [
       "{'status': 'ok', 'restart': True}"
      ]
     },
     "execution_count": 2,
     "metadata": {},
     "output_type": "execute_result"
    }
   ],
   "source": [
    "import IPython\n",
    "from IPython.display import Markdown, display\n",
    "import time\n",
    "\n",
    "app = IPython.Application.instance()\n",
    "app.kernel.do_shutdown(True)"
   ]
  },
  {
   "cell_type": "code",
   "execution_count": 1,
   "id": "d2e5fd89-039d-4f0f-97f3-f8ada7f90671",
   "metadata": {
    "tags": []
   },
   "outputs": [],
   "source": [
    "from vertexai.preview.generative_models import GenerativeModel\n",
    "from vertexai.language_models import TextEmbeddingModel\n",
    "text_embedding_model = TextEmbeddingModel.from_pretrained(\"text-embedding-004\")\n",
    "model = GenerativeModel('gemini-pro')"
   ]
  },
  {
   "cell_type": "markdown",
   "id": "eb2d0b8d-b60b-4139-968b-75171d89d0cf",
   "metadata": {},
   "source": [
    "## Download a PDF and Convert to Text"
   ]
  },
  {
   "cell_type": "code",
   "execution_count": 2,
   "id": "d6bf111d-069e-418a-9c12-7d02042c1130",
   "metadata": {
    "tags": []
   },
   "outputs": [
    {
     "data": {
      "text/plain": [
       "('2022-alphabet-annual-report.pdf',\n",
       " <http.client.HTTPMessage at 0x7fca64699330>)"
      ]
     },
     "execution_count": 2,
     "metadata": {},
     "output_type": "execute_result"
    }
   ],
   "source": [
    "import urllib.request\n",
    "\n",
    "# download alphabet's annual pdf report\n",
    "url = \"https://abc.xyz/assets/d4/4f/a48b94d548d0b2fdc029a95e8c63\"\n",
    "file = \"2022-alphabet-annual-report.pdf\"\n",
    "\n",
    "urllib.request.urlretrieve(f\"{url}/{file}\", filename=f\"{file}\")"
   ]
  },
  {
   "cell_type": "code",
   "execution_count": null,
   "id": "1b0592e2-4998-474f-970e-fa94d661df8a",
   "metadata": {
    "tags": []
   },
   "outputs": [],
   "source": [
    "!pip install PyPDF2\n",
    "import PyPDF2\n",
    "\n",
    "# Open the PDF file in binary mode\n",
    "with open('2022-alphabet-annual-report.pdf', 'rb') as file:\n",
    "    # Create a PdfFileReader object\n",
    "    pdf_reader = PyPDF2.PdfReader(file)\n",
    "    pdf_texts = [p.extract_text().strip() for p in pdf_reader.pages]\n",
    "\n",
    "    # Filter the empty strings\n",
    "    pdf_texts = [text for text in pdf_texts if text]\n",
    "\n",
    "    print(pdf_texts[0])"
   ]
  },
  {
   "cell_type": "markdown",
   "id": "419d0472-a186-450c-80f6-e87f2bb40814",
   "metadata": {},
   "source": [
    "Split PDF into chunks so that we can create embedding out of them. The embedding's APIs and the LLM have token limits, that's why we need to split the text into smaller units as opposed to sending the whole text."
   ]
  },
  {
   "cell_type": "code",
   "execution_count": 4,
   "id": "367aa061-be60-418f-8359-f8b2e79b69dc",
   "metadata": {
    "tags": []
   },
   "outputs": [
    {
     "name": "stdout",
     "output_type": "stream",
     "text": [
      "  Attempting uninstall: requests-toolbelt\n",
      "    Found existing installation: requests-toolbelt 0.10.1\n",
      "    Uninstalling requests-toolbelt-0.10.1:\n",
      "      Successfully uninstalled requests-toolbelt-0.10.1\n",
      "\u001b[31mERROR: pip's dependency resolver does not currently take into account all the packages that are installed. This behaviour is the source of the following dependency conflicts.\n",
      "kfp 2.5.0 requires requests-toolbelt<1,>=0.8.0, but you have requests-toolbelt 1.0.0 which is incompatible.\u001b[0m\u001b[31m\n",
      "\u001b[0mSuccessfully installed httpcore-1.0.6 httpx-0.27.2 huggingface-hub-0.26.2 langchain-0.3.7 langchain-core-0.3.15 langchain-text-splitters-0.3.2 langsmith-0.1.140 mpmath-1.3.0 nvidia-cublas-cu12-12.4.5.8 nvidia-cuda-cupti-cu12-12.4.127 nvidia-cuda-nvrtc-cu12-12.4.127 nvidia-cuda-runtime-cu12-12.4.127 nvidia-cudnn-cu12-9.1.0.70 nvidia-cufft-cu12-11.2.1.3 nvidia-curand-cu12-10.3.5.147 nvidia-cusolver-cu12-11.6.1.9 nvidia-cusparse-cu12-12.3.1.170 nvidia-nccl-cu12-2.21.5 nvidia-nvjitlink-cu12-12.4.127 nvidia-nvtx-cu12-12.4.127 orjson-3.10.11 regex-2024.11.6 requests-toolbelt-1.0.0 safetensors-0.4.5 sentence-transformers-3.2.1 sympy-1.13.1 tokenizers-0.20.3 torch-2.5.1 transformers-4.46.2 triton-3.1.0\n",
      "5\n",
      "Year in Review 2022\n",
      "Multisearch\n",
      "With multisearch, people can now \n",
      "search with both images and text  \n",
      "at the same time in Google Lens.\n",
      "\n",
      "Total chunks: 489\n"
     ]
    }
   ],
   "source": [
    "!pip install langchain sentence-transformers\n",
    "from langchain.text_splitter import RecursiveCharacterTextSplitter, SentenceTransformersTokenTextSplitter\n",
    "character_splitter = RecursiveCharacterTextSplitter(\n",
    "    separators=[\"\\n\\n\", \"\\n\", \". \", \" \", \"\"],\n",
    "    chunk_size=1000,\n",
    "    chunk_overlap=0\n",
    ")\n",
    "character_split_texts = character_splitter.split_text('\\n\\n'.join(pdf_texts))\n",
    "\n",
    "print(character_split_texts[10])\n",
    "print(f\"\\nTotal chunks: {len(character_split_texts)}\")"
   ]
  },
  {
   "cell_type": "markdown",
   "id": "e8a21905-5c31-4fe0-b841-74a37eedb53c",
   "metadata": {},
   "source": [
    "Create more chunks if the size of the existing chunk is too big. In this case, we define too big as 256 tokens."
   ]
  },
  {
   "cell_type": "code",
   "execution_count": 5,
   "id": "4ed21482-fffe-4981-beb8-855828ee22a3",
   "metadata": {
    "tags": []
   },
   "outputs": [
    {
     "name": "stderr",
     "output_type": "stream",
     "text": [
      "/opt/conda/lib/python3.10/site-packages/sentence_transformers/cross_encoder/CrossEncoder.py:13: TqdmExperimentalWarning: Using `tqdm.autonotebook.tqdm` in notebook mode. Use `tqdm.tqdm` instead to force console mode (e.g. in jupyter console)\n",
      "  from tqdm.autonotebook import tqdm, trange\n"
     ]
    },
    {
     "data": {
      "application/vnd.jupyter.widget-view+json": {
       "model_id": "eec330d3e1984b26a64e8951f4b01efb",
       "version_major": 2,
       "version_minor": 0
      },
      "text/plain": [
       "modules.json:   0%|          | 0.00/349 [00:00<?, ?B/s]"
      ]
     },
     "metadata": {},
     "output_type": "display_data"
    },
    {
     "data": {
      "application/vnd.jupyter.widget-view+json": {
       "model_id": "c31ff49cf7ca4e7dbd7f9d44fd0ba0d4",
       "version_major": 2,
       "version_minor": 0
      },
      "text/plain": [
       "config_sentence_transformers.json:   0%|          | 0.00/116 [00:00<?, ?B/s]"
      ]
     },
     "metadata": {},
     "output_type": "display_data"
    },
    {
     "data": {
      "application/vnd.jupyter.widget-view+json": {
       "model_id": "2c8027d570ea49139c1f0ad83cb501b6",
       "version_major": 2,
       "version_minor": 0
      },
      "text/plain": [
       "README.md:   0%|          | 0.00/10.6k [00:00<?, ?B/s]"
      ]
     },
     "metadata": {},
     "output_type": "display_data"
    },
    {
     "data": {
      "application/vnd.jupyter.widget-view+json": {
       "model_id": "47cb10ad87cb421daa13f4592818c3bd",
       "version_major": 2,
       "version_minor": 0
      },
      "text/plain": [
       "sentence_bert_config.json:   0%|          | 0.00/53.0 [00:00<?, ?B/s]"
      ]
     },
     "metadata": {},
     "output_type": "display_data"
    },
    {
     "data": {
      "application/vnd.jupyter.widget-view+json": {
       "model_id": "60e9b493460e45be880a36ecbc3f640d",
       "version_major": 2,
       "version_minor": 0
      },
      "text/plain": [
       "config.json:   0%|          | 0.00/571 [00:00<?, ?B/s]"
      ]
     },
     "metadata": {},
     "output_type": "display_data"
    },
    {
     "data": {
      "application/vnd.jupyter.widget-view+json": {
       "model_id": "ce5f1365556a45148b7fde99f4fd4b68",
       "version_major": 2,
       "version_minor": 0
      },
      "text/plain": [
       "model.safetensors:   0%|          | 0.00/438M [00:00<?, ?B/s]"
      ]
     },
     "metadata": {},
     "output_type": "display_data"
    },
    {
     "data": {
      "application/vnd.jupyter.widget-view+json": {
       "model_id": "1322db68363f4927ae509d7d2fa68956",
       "version_major": 2,
       "version_minor": 0
      },
      "text/plain": [
       "tokenizer_config.json:   0%|          | 0.00/363 [00:00<?, ?B/s]"
      ]
     },
     "metadata": {},
     "output_type": "display_data"
    },
    {
     "data": {
      "application/vnd.jupyter.widget-view+json": {
       "model_id": "8991f99e8f384526b061a79c492847de",
       "version_major": 2,
       "version_minor": 0
      },
      "text/plain": [
       "vocab.txt:   0%|          | 0.00/232k [00:00<?, ?B/s]"
      ]
     },
     "metadata": {},
     "output_type": "display_data"
    },
    {
     "data": {
      "application/vnd.jupyter.widget-view+json": {
       "model_id": "69bb919a5cc74a449c6ad5b5982bb3df",
       "version_major": 2,
       "version_minor": 0
      },
      "text/plain": [
       "tokenizer.json:   0%|          | 0.00/466k [00:00<?, ?B/s]"
      ]
     },
     "metadata": {},
     "output_type": "display_data"
    },
    {
     "data": {
      "application/vnd.jupyter.widget-view+json": {
       "model_id": "aadccff3be9a4f8a9c337a2e683ff553",
       "version_major": 2,
       "version_minor": 0
      },
      "text/plain": [
       "special_tokens_map.json:   0%|          | 0.00/239 [00:00<?, ?B/s]"
      ]
     },
     "metadata": {},
     "output_type": "display_data"
    },
    {
     "data": {
      "application/vnd.jupyter.widget-view+json": {
       "model_id": "7a45a98d56ba4900b15f4bf3612d8e91",
       "version_major": 2,
       "version_minor": 0
      },
      "text/plain": [
       "1_Pooling/config.json:   0%|          | 0.00/190 [00:00<?, ?B/s]"
      ]
     },
     "metadata": {},
     "output_type": "display_data"
    },
    {
     "name": "stdout",
     "output_type": "stream",
     "text": [
      "5 year in review 2022 multisearch with multisearch, people can now search with both images and text at the same time in google lens.\n",
      "\n",
      "Total chunks: 511\n"
     ]
    }
   ],
   "source": [
    "token_splitter = SentenceTransformersTokenTextSplitter(chunk_overlap=0, tokens_per_chunk=256)\n",
    "\n",
    "token_split_texts = []\n",
    "for text in character_split_texts:\n",
    "    token_split_texts += token_splitter.split_text(text)\n",
    "\n",
    "print(token_split_texts[10])\n",
    "print(f\"\\nTotal chunks: {len(token_split_texts)}\")"
   ]
  },
  {
   "cell_type": "markdown",
   "id": "b909c3c1-518b-4004-96ba-2976d37c9b0a",
   "metadata": {},
   "source": [
    "## Install and initialize the embeddings database\n",
    "\n",
    "To store the embeddings we use Chroma, an open-source embeddings database that makes it straightforward to store embeddings."
   ]
  },
  {
   "cell_type": "code",
   "execution_count": null,
   "id": "84653b13-c914-4656-9d72-a5ce8226f4b2",
   "metadata": {},
   "outputs": [],
   "source": [
    "!pip3 install chromadb==0.5.3\n",
    "!pip3 install google-generativeai\n",
    "import chromadb\n",
    "import os\n",
    "from chromadb.utils.embedding_functions import SentenceTransformerEmbeddingFunction\n",
    "# import chromadb.utils.embedding_functions as embedding_functions\n",
    "\n",
    "# import getpass\n",
    "# import os\n",
    "\n",
    "# getpass will prompt for an API Key\n",
    "# The API Key is needed for Chroma DB\n",
    "# API_KEY = getpass.getpass(\"Provide your Google API Key\")\n",
    "\n",
    "# embedding_function = embedding_functions.GooglePalmEmbeddingFunction(api_key=creds.token)"
   ]
  },
  {
   "cell_type": "code",
   "execution_count": 8,
   "id": "2c27b84a-88a5-4950-8e14-35e3feeb29f3",
   "metadata": {
    "tags": []
   },
   "outputs": [
    {
     "name": "stdout",
     "output_type": "stream",
     "text": [
      "[[-0.03299040347337723, -0.03994394838809967, 0.02768322080373764, -0.020394684746861458, 0.010316920466721058, -0.013435319997370243, -0.11188780516386032, 0.0020084811840206385, -0.008219876326620579, -0.054634515196084976, 0.05009115859866142, 0.060834359377622604, 0.050288472324609756, 0.04027774557471275, 0.0002621527237351984, -0.01453626248985529, -0.054342564195394516, 0.0022568206768482924, -0.03845825418829918, -0.053221721202135086, 0.0584506019949913, -0.04633062705397606, 0.11275571584701538, -0.0909026712179184, -0.005574648734182119, 0.02450973354279995, -0.14071720838546753, -0.09735380113124847, -0.0076984865590929985, 0.018437139689922333, -5.31673249497544e-05, 0.0346691757440567, -0.006346573121845722, 0.11858687549829483, -0.0844186320900917, 0.0539005771279335, -0.06958915293216705, 0.0504479855298996, -0.010030870325863361, 0.016402777284383774, -0.042457979172468185, -0.036958418786525726, -0.03685655817389488, -0.059337131679058075, 0.03196948766708374, 0.021555446088314056, -0.016519639641046524, -0.06547919660806656, 0.12095297873020172, 0.018317313864827156, -0.11509416997432709, -0.02344784140586853, -0.05456090718507767, 0.0016745345201343298, 0.0578916110098362, 0.08628765493631363, -0.039494942873716354, 0.004467010032385588, 0.00394650362432003, 0.01567012444138527, 0.008778777904808521, 0.016000857576727867, -0.003253863425925374, 0.06132224574685097, 0.13086409866809845, 0.033286359161138535, 0.08286529034376144, -0.09430436044931412, 0.0023565918672829866, -0.09231957048177719, 0.05939960852265358, -0.0027769189327955246, 0.05411554500460625, -0.01997673325240612, -0.02035680040717125, 0.07041634619235992, 0.0036438468378037214, -0.024774350225925446, 0.003210614202544093, -0.009424771182239056, 0.03597017005085945, -0.043848443776369095, 0.025121590122580528, -0.02359500713646412, 0.022700143977999687, -0.09640185534954071, -0.12446412444114685, -0.04922695457935333, 0.04974713176488876, -0.07508799433708191, 0.030794112011790276, -0.06537652760744095, -0.007808665279299021, 0.03921867161989212, -0.06168624758720398, -0.055464550852775574, -0.061166923493146896, 0.049059294164180756, 0.012119119986891747, -0.05159282311797142, -0.04359203577041626, -0.04613730311393738, 0.019251961261034012, -0.0009632365545257926, -0.03619447350502014, 0.023756016045808792, 0.05923495814204216, 0.01511148177087307, 0.023419948294758797, -0.057319480925798416, 0.008371503092348576, 0.0693369060754776, 0.02402331493794918, -0.035224106162786484, -0.04857971519231796, 0.05215694382786751, -0.059408221393823624, -0.05786280333995819, 0.1374533325433731, 0.07820281386375427, -0.06057346239686012, -0.009561085142195225, 0.004693169146776199, -0.05069785937666893, -0.010184699669480324, -0.024617435410618782, -0.024373281747102737, 3.9715182341904726e-33, 0.007024993654340506, 0.01583268865942955, 0.08486858755350113, 0.017659517005085945, -0.07573197036981583, 0.02474895305931568, -0.043804578483104706, 0.05559544265270233, -0.1632722169160843, -0.10690128058195114, 0.02870779111981392, 0.056747645139694214, -0.06198514997959137, 0.02338472381234169, 0.004513977095484734, -0.004911075811833143, 0.028633709996938705, 0.02154017984867096, 0.06016171723604202, 0.043655525892972946, 0.03289338946342468, -0.015947505831718445, -0.0016327511984854937, -0.01594015397131443, 0.06689087301492691, 0.015686729922890663, 0.064393550157547, -0.10702139884233475, 0.04848342761397362, 0.04433870315551758, -0.06380802392959595, 0.06614793092012405, -0.015019797720015049, 0.01796063594520092, 0.043703436851501465, 0.053795330226421356, -0.06027815118432045, 0.07811678946018219, -0.030051378533244133, 0.024510841816663742, -0.02991708740592003, -0.003584346268326044, 0.036171820014715195, -0.12826021015644073, 0.00634520361199975, 0.023348834365606308, -0.13514721393585205, 0.008351064287126064, -0.009138588793575764, -0.004260329995304346, 0.04348939657211304, 0.0322381965816021, -0.15615710616111755, -0.008810441009700298, 0.08632687479257584, 0.10427533835172653, -0.04265924543142319, 0.00866147130727768, -0.00436864560469985, 0.024473154917359352, 0.017898857593536377, 0.008760983124375343, -0.018968040123581886, 0.0011241977335885167, 0.0004519611247815192, 0.0349574089050293, 0.03432626277208328, 0.010356116108596325, -0.01690092496573925, 0.10622075200080872, -0.0028836375568062067, -0.004599709529429674, -0.04492194205522537, -0.01853579469025135, 0.03307182341814041, -0.07056142389774323, -0.00874304585158825, -0.044760413467884064, 0.030594151467084885, 0.09171219915151596, -0.02412526309490204, -0.03081260435283184, 0.07862137258052826, 0.0033081076107919216, -0.020565442740917206, 0.04760550707578659, 0.057292722165584564, -0.06693674623966217, -0.022272853180766106, 0.029437240213155746, 0.014241104014217854, 0.06403449177742004, -0.06569793075323105, -0.03127480670809746, 0.022435368970036507, -5.007436957190014e-33, -0.03187507763504982, -0.06340411305427551, -0.03900478035211563, 0.023540504276752472, 0.03912974148988724, 0.03437526524066925, 0.04007613658905029, -0.02042279951274395, -0.03234888240695, 0.05234210938215256, 0.059108998626470566, -0.007203834597021341, -0.04132029041647911, -0.011854375712573528, -0.11563929915428162, 0.011508924886584282, 0.061233244836330414, -0.022431090474128723, -0.021996699273586273, 0.01404641941189766, 0.02578112483024597, 0.005979299079626799, -0.009535384364426136, 0.024100206792354584, -0.063277468085289, -0.002048359951004386, 0.03584285452961922, -0.029756831005215645, -0.043071772903203964, -0.0006004641181789339, -0.012534741312265396, -0.05623377859592438, 0.032050445675849915, 0.00027572776889428496, 0.003352863946929574, 0.03853703290224075, -0.02654559351503849, -0.09196769446134567, -0.0227692648768425, 0.06158702075481415, 0.02568572759628296, 0.028194190934300423, 0.03530275449156761, -0.049872901290655136, -0.05000152066349983, -0.029349280521273613, -0.03212173283100128, 0.016586503013968468, 0.03704134747385979, 0.01752857118844986, -0.038705337792634964, -0.029327966272830963, -0.06344049423933029, -0.07388705015182495, -0.03447519615292549, -0.07062524557113647, 0.004816516302525997, 0.06969429552555084, -0.003134328406304121, 0.004672504961490631, 0.0033470988273620605, -0.03398498147726059, -0.04832518845796585, 0.02793455496430397, 0.010772877372801304, -0.020612478256225586, -0.013131684623658657, -0.058492571115493774, -0.07565831393003464, 0.041309528052806854, -0.002591526135802269, -0.08955953270196915, 0.020978186279535294, 0.055439457297325134, 0.002060435712337494, 0.05453985929489136, 0.024432731792330742, 0.10930520296096802, 0.028638381510972977, -0.04487135633826256, 0.027670394629240036, 0.0367337130010128, -0.003935190849006176, 0.17495696246623993, 0.0038331933319568634, 0.023747067898511887, 0.008619316853582859, 0.016209034249186516, -0.025720350444316864, -0.0918537825345993, -0.038806118071079254, -0.017467737197875977, -0.061267055571079254, -0.028160620480775833, 0.03858587145805359, -2.7597387486366642e-08, 0.07812158018350601, 0.05210360512137413, -0.02762330323457718, 0.021103385835886, 0.05383596569299698, -0.0005516732344403863, -0.012521600350737572, 0.06315213441848755, -0.04240022227168083, 0.005271495785564184, -0.022028053179383278, 0.036485567688941956, -0.023235298693180084, 0.015137527137994766, 0.030383393168449402, -0.050987403839826584, 0.013745314441621304, -0.037529878318309784, 0.03390529751777649, -0.011586753651499748, 0.011013559065759182, 0.0033264753874391317, 0.014553135260939598, 0.021012326702475548, -0.08063558489084244, 0.08616845309734344, -0.04869949445128441, -0.015209265984594822, 0.00856746081262827, -0.00578059908002615, 0.007869805209338665, -0.011478287167847157, -0.07015315443277359, -0.008984316140413284, 0.018908090889453888, -0.08241426199674606, -0.018981853500008583, -0.007575712166726589, -0.011817151680588722, 0.01718553528189659, 0.08183784782886505, 0.004939354956150055, 0.07152927666902542, 0.056323155760765076, 0.09855367988348007, 0.04808482900261879, 0.11054377257823944, -0.10186513513326645, 0.033465415239334106, 0.049273233860731125, -0.02730460837483406, -0.03425009548664093, 0.004931013565510511, 0.08196207135915756, 0.01408262737095356, -0.04845196008682251, 0.06755328178405762, -0.08203929662704468, 0.027042130008339882, 0.029886163771152496, 0.08814927190542221, -0.043715670704841614, -0.08678337186574936, 0.015215085819363594]]\n"
     ]
    }
   ],
   "source": [
    "embedding_function = SentenceTransformerEmbeddingFunction()\n",
    "print(embedding_function([token_split_texts[10]]))"
   ]
  },
  {
   "cell_type": "markdown",
   "id": "0cb7a5d5-8564-402d-be08-86bc0816e262",
   "metadata": {},
   "source": [
    "## Create embeddings and store them in the chroma database"
   ]
  },
  {
   "cell_type": "code",
   "execution_count": 9,
   "id": "8bc73b5a-f9b1-4b1b-9941-8756f4c41775",
   "metadata": {
    "tags": []
   },
   "outputs": [
    {
     "name": "stdout",
     "output_type": "stream",
     "text": [
      "collection\n",
      "created\n",
      "adding\n"
     ]
    },
    {
     "data": {
      "text/plain": [
       "511"
      ]
     },
     "execution_count": 9,
     "metadata": {},
     "output_type": "execute_result"
    }
   ],
   "source": [
    "chroma_client = chromadb.Client()\n",
    "print(\"collection\")\n",
    "chroma_collection = chroma_client.create_collection(\"alphabet_annual_report_2022\", embedding_function=embedding_function)\n",
    "print(\"created\")\n",
    "ids = [str(i) for i in range(len(token_split_texts))]\n",
    "print(\"adding\")\n",
    "chroma_collection.add(ids=ids, documents=token_split_texts)\n",
    "chroma_collection.count()"
   ]
  },
  {
   "cell_type": "markdown",
   "id": "bad37f01-5fd2-4775-ada1-c24f2b8c7be0",
   "metadata": {},
   "source": [
    "## Perform an embeddings search on the chroma db database"
   ]
  },
  {
   "cell_type": "code",
   "execution_count": 10,
   "id": "18a28b24-a2a4-4308-94a7-62065d3009cf",
   "metadata": {
    "tags": []
   },
   "outputs": [
    {
     "name": "stdout",
     "output_type": "stream",
     "text": [
      "accrued revenue share 1, 639 1, 682 ( 445 ) deferred revenue 635 774 367\n",
      "\n",
      "\n",
      "for additional details, including a reconciliation of the u. s. federal statutory rate to our effective tax rate, see note 14 of the notes to consolidated financial statements included in item 8 of this annual report on form 10 - k. executive overview the following table summarizes our consolidated financial results ( in millions, except for per share information and percentages ) : year ended december 31, 2021 2022 $ change % change consolidated revenues $ 257, 637 $ 282, 836 $ 25, 199 10 % change in consolidated constant currency revenues ( 1 ) 14 % cost of revenues $ 110, 939 $ 126, 203 $ 15, 264 14 % operating expenses $ 67, 984 $ 81, 791 $ 13, 807 20 % operating income $ 78, 714 $ 74, 842 $ ( 3, 872 ) ( 5 ) % operating margin 31 % 26 % ( 5 ) % other income ( expense ), net $ 12, 020 $ ( 3, 514 ) $ ( 15, 534 ) ( 129 ) % net income $ 76, 033 $ 59, 972 $ ( 16, 061 ) ( 21 ) % diluted eps $ 5. 61 $ 4. 56 $ ( 1. 05 ) ( 19 )\n",
      "\n",
      "\n",
      "year ended december 31, 2022 $ 1, 389 $ 2, 125 $ ( 2, 301 ) $ 1, 213 note : additions t o the allowance for credit losses are charged to expense. additions to the allowance for sales credits are charged against revenues. all other schedules have been omitted because they are not required, not applicable, or the required information is otherwise included.\n",
      "\n",
      "\n",
      "comprehensive income $ 42, 134 $ 73, 777 $ 53, 992 see accompanying notes.\n",
      "\n",
      "\n",
      "32 alphabet inc. ● annual report part ii item 7 management ’ s discussion and anal ysis of financial condition and results of operations sales and marketing the following table presents sales and marketing expenses ( in millions, except percentages ) : year ended december 31, 2021 2022 sales and marketing expenses $ 22, 912 $ 26, 567 sales and marketing expenses as a percentage of revenues 9 % 9 % sales and marketing expenses increased $ 3. 7 billion from 2021 to 2022, primarily driven by an increase in compensation expenses of $ 1. 8 billion, largely resulting from a 19 % increase in average headcount, and an increase in advertising and promotional activities of $ 1. 3 billion. general and administrative the following table presents general and administrative expenses ( in millions, except percentages ) : year ended december 31, 2021 2022 general and administrative expenses $ 13, 510 $ 15, 724 general and administrative expenses as a percentage of revenues 5 % 6 %\n",
      "\n",
      "\n"
     ]
    }
   ],
   "source": [
    "query = \"What was the total revenue?\"\n",
    "\n",
    "results = chroma_collection.query(query_texts=[query], n_results=5)\n",
    "retrieved_documents = results['documents'][0]\n",
    "\n",
    "for document in retrieved_documents:\n",
    "    print(document)\n",
    "    print('\\n')"
   ]
  },
  {
   "cell_type": "markdown",
   "id": "889ce7c3-2385-46b1-af92-283847411d3a",
   "metadata": {},
   "source": [
    "## Use a RAG to answer the question given the information that was looked up from the database"
   ]
  },
  {
   "cell_type": "code",
   "execution_count": 11,
   "id": "114aacec-305c-44f2-8f55-9018f9855e1d",
   "metadata": {
    "tags": []
   },
   "outputs": [
    {
     "name": "stdout",
     "output_type": "stream",
     "text": [
      "The total revenue was $282,836 million in 2022. This represents a 10% increase from the $257,637 million in revenue in 2021. \n"
     ]
    }
   ],
   "source": [
    "def rag(query, retrieved_documents, model):\n",
    "    information = \"\\n\\n\".join(retrieved_documents)\n",
    "\n",
    "    prompt = (f'You are a helpful expert financial research assistant.\\n'\n",
    "    f'Your users are asking questions about information contained in an annual report.\\n'\n",
    "    f'You will be shown the user\\'s question, and the relevant information from the annual report.\\n'\n",
    "    f'Answer the user\\'s question using only this information.\\n\\n'\n",
    "    f'Question: {query}. \\n Information: {information}')\n",
    "    \n",
    "    responses = model.generate_content(prompt, stream=False)\n",
    "    return responses.text\n",
    "\n",
    "response = rag(query=query, retrieved_documents=retrieved_documents, model=model)\n",
    "print(response)"
   ]
  },
  {
   "cell_type": "markdown",
   "id": "14b75689-681f-4c58-ad39-afd47ab6ccd7",
   "metadata": {},
   "source": [
    "## Explore embeddings distribution with user queries\n",
    "\n",
    "Use the python library `umap` to reduce the dimensions of our embeddings to two dimensions, so that we can see how close they are represented in a graph. Then we try different queries to see how different queries relate to the existing embedding space. This can give us an intuition about whether the answer might be found in the embeddings space."
   ]
  },
  {
   "cell_type": "markdown",
   "id": "96f4834f-922c-4975-a289-d832eaf4d64c",
   "metadata": {},
   "source": [
    "### Transform embeddigns into a two-dimensional space"
   ]
  },
  {
   "cell_type": "code",
   "execution_count": 12,
   "id": "ae5a982e-5c74-4b2d-bcd7-cbea1ffd8529",
   "metadata": {
    "tags": []
   },
   "outputs": [
    {
     "name": "stderr",
     "output_type": "stream",
     "text": [
      "/home/jupyter/.local/lib/python3.10/site-packages/umap/umap_.py:1952: UserWarning: n_jobs value 1 overridden to 1 by setting random_state. Use no seed for parallelism.\n",
      "  warn(\n",
      "100%|██████████| 511/511 [00:06<00:00, 74.54it/s] \n"
     ]
    }
   ],
   "source": [
    "import umap.umap_ as umap\n",
    "import numpy as np\n",
    "from tqdm import tqdm\n",
    "\n",
    "embeddings = chroma_collection.get(include=['embeddings'])['embeddings']\n",
    "umap_transform = umap.UMAP(random_state=0, transform_seed=0).fit(embeddings)\n",
    "\n",
    "def project_embeddings(embeddings, umap_transform):\n",
    "    umap_embeddings = np.empty((len(embeddings),2))\n",
    "    for i, embedding in enumerate(tqdm(embeddings)): \n",
    "        umap_embeddings[i] = umap_transform.transform([embedding])\n",
    "    return umap_embeddings\n",
    "\n",
    "projected_dataset_embeddings = project_embeddings(embeddings, umap_transform)"
   ]
  },
  {
   "cell_type": "markdown",
   "id": "626ae066-baa7-4e68-b6bb-2f67a9e778ba",
   "metadata": {},
   "source": [
    "### Plot Them"
   ]
  },
  {
   "cell_type": "code",
   "execution_count": 13,
   "id": "9659e3d2-94d7-4331-aa69-d79b9bd20ee1",
   "metadata": {
    "tags": []
   },
   "outputs": [
    {
     "data": {
      "image/png": "[encoded data removed]",
      "text/plain": [
       "<Figure size 640x480 with 1 Axes>"
      ]
     },
     "metadata": {},
     "output_type": "display_data"
    }
   ],
   "source": [
    "import matplotlib.pyplot as plt\n",
    "\n",
    "def plot(title='Projected Embeddings', projected_dataset_embeddings=[], projected_query_embedding=[], projected_retrieved_embeddings=[]):\n",
    "    # Plot the projected query and retrieved documents in the embedding space\n",
    "    plt.figure()\n",
    "    plt.scatter(projected_dataset_embeddings[:, 0], projected_dataset_embeddings[:, 1], s=10, color='gray')\n",
    "    if len(projected_query_embedding) > 0:\n",
    "        plt.scatter(projected_query_embedding[:, 0], projected_query_embedding[:, 1], s=150, marker='X', color='r')\n",
    "    if len(projected_retrieved_embeddings) > 0:\n",
    "        plt.scatter(projected_retrieved_embeddings[:, 0], projected_retrieved_embeddings[:, 1], s=100, facecolors='none', edgecolors='g')\n",
    "\n",
    "    plt.gca().set_aspect('equal', 'datalim')\n",
    "    plt.title(f'{title}')\n",
    "    plt.axis('off')\n",
    "\n",
    "plot(projected_dataset_embeddings=projected_dataset_embeddings)"
   ]
  },
  {
   "cell_type": "markdown",
   "id": "53256bbf-7afd-4a22-aa05-6dfc1f872db5",
   "metadata": {},
   "source": [
    "Ask the same question to the database again, but this time retrieve the embeddings in addition to the documents."
   ]
  },
  {
   "cell_type": "code",
   "execution_count": 14,
   "id": "f82af407-b6ce-4291-a570-38ca86b89308",
   "metadata": {
    "tags": []
   },
   "outputs": [
    {
     "name": "stdout",
     "output_type": "stream",
     "text": [
      "accrued revenue share 1, 639 1, 682 ( 445 ) deferred revenue 635 774 367\n",
      "\n",
      "for additional details, including a reconciliation of the u. s. federal statutory rate to our effective tax rate, see note 14 of the notes to consolidated financial statements included in item 8 of this annual report on form 10 - k. executive overview the following table summarizes our consolidated financial results ( in millions, except for per share information and percentages ) : year ended december 31, 2021 2022 $ change % change consolidated revenues $ 257, 637 $ 282, 836 $ 25, 199 10 % change in consolidated constant currency revenues ( 1 ) 14 % cost of revenues $ 110, 939 $ 126, 203 $ 15, 264 14 % operating expenses $ 67, 984 $ 81, 791 $ 13, 807 20 % operating income $ 78, 714 $ 74, 842 $ ( 3, 872 ) ( 5 ) % operating margin 31 % 26 % ( 5 ) % other income ( expense ), net $ 12, 020 $ ( 3, 514 ) $ ( 15, 534 ) ( 129 ) % net income $ 76, 033 $ 59, 972 $ ( 16, 061 ) ( 21 ) % diluted eps $ 5. 61 $ 4. 56 $ ( 1. 05 ) ( 19 )\n",
      "\n",
      "year ended december 31, 2022 $ 1, 389 $ 2, 125 $ ( 2, 301 ) $ 1, 213 note : additions t o the allowance for credit losses are charged to expense. additions to the allowance for sales credits are charged against revenues. all other schedules have been omitted because they are not required, not applicable, or the required information is otherwise included.\n",
      "\n",
      "comprehensive income $ 42, 134 $ 73, 777 $ 53, 992 see accompanying notes.\n",
      "\n",
      "32 alphabet inc. ● annual report part ii item 7 management ’ s discussion and anal ysis of financial condition and results of operations sales and marketing the following table presents sales and marketing expenses ( in millions, except percentages ) : year ended december 31, 2021 2022 sales and marketing expenses $ 22, 912 $ 26, 567 sales and marketing expenses as a percentage of revenues 9 % 9 % sales and marketing expenses increased $ 3. 7 billion from 2021 to 2022, primarily driven by an increase in compensation expenses of $ 1. 8 billion, largely resulting from a 19 % increase in average headcount, and an increase in advertising and promotional activities of $ 1. 3 billion. general and administrative the following table presents general and administrative expenses ( in millions, except percentages ) : year ended december 31, 2021 2022 general and administrative expenses $ 13, 510 $ 15, 724 general and administrative expenses as a percentage of revenues 5 % 6 %\n",
      "\n"
     ]
    }
   ],
   "source": [
    "query = \"What was the total revenue?\"\n",
    "\n",
    "results = chroma_collection.query(query_texts=query, n_results=5, include=['documents', 'embeddings'])\n",
    "\n",
    "retrieved_documents = results['documents'][0]\n",
    "\n",
    "for document in results['documents'][0]:\n",
    "    print(document)\n",
    "    print('')"
   ]
  },
  {
   "cell_type": "markdown",
   "id": "1c91a58e-a6e0-423d-a4e4-4ca91f734128",
   "metadata": {},
   "source": [
    "Embed the question and answer and transform it into two dimentions."
   ]
  },
  {
   "cell_type": "code",
   "execution_count": 15,
   "id": "e4a8abfe-089d-4cbe-937f-d5d67439150e",
   "metadata": {
    "tags": []
   },
   "outputs": [
    {
     "name": "stderr",
     "output_type": "stream",
     "text": [
      "100%|██████████| 1/1 [00:00<00:00, 133.65it/s]\n",
      "100%|██████████| 5/5 [00:00<00:00, 129.69it/s]\n"
     ]
    }
   ],
   "source": [
    "query_embedding = embedding_function([query])[0]\n",
    "retrieved_embeddings = results['embeddings'][0]\n",
    "\n",
    "projected_query_embedding = project_embeddings([query_embedding], umap_transform)\n",
    "projected_retrieved_embeddings = project_embeddings(retrieved_embeddings, umap_transform)"
   ]
  },
  {
   "cell_type": "markdown",
   "id": "83d82ea3-762d-4296-a190-cc4ed9925721",
   "metadata": {},
   "source": [
    "Plot the projected query and retrieved documents in the embedding space."
   ]
  },
  {
   "cell_type": "code",
   "execution_count": 16,
   "id": "79368ee8-f1c4-446b-861b-b9411ea22215",
   "metadata": {
    "tags": []
   },
   "outputs": [
    {
     "data": {
      "image/png": "[encoded data removed]",
      "text/plain": [
       "<Figure size 640x480 with 1 Axes>"
      ]
     },
     "metadata": {},
     "output_type": "display_data"
    }
   ],
   "source": [
    "plot(title=query, projected_dataset_embeddings=projected_dataset_embeddings, projected_query_embedding=[], projected_retrieved_embeddings=projected_retrieved_embeddings)"
   ]
  },
  {
   "cell_type": "markdown",
   "id": "08355a61-5338-4f97-9d95-0f5b6fbfba16",
   "metadata": {},
   "source": [
    "### Another Example"
   ]
  },
  {
   "cell_type": "code",
   "execution_count": 17,
   "id": "3c9d1d9e-ade0-4204-82be-04499a3d4efb",
   "metadata": {
    "tags": []
   },
   "outputs": [
    {
     "name": "stdout",
     "output_type": "stream",
     "text": [
      "to irrelevance over time, especially in technology, where change tends to be revolutionary, not evolutionary. people thought we were crazy when we acquired youtube and android and when we launched chrome, but those efforts have matured into major platforms for digital video and mobile devices and a safer, popular browser. we continue to look toward the future and to invest for the long term within each of our segments. as we said in the original founders ’ letter, we will not shy away from high - risk, high - reward projects that we believe in, as they are the key to our long - term success. the power of ai we believe that ai is a foundational and transformational technology that will provide compelling and helpful benefits to people and society through its capacity to assist, complement, empower, and inspire people in almost every field of human endeavor. as\n",
      "\n",
      "are making across our businesses, such as in ai, reflect our ongoing efforts to innovate and provide products and services that are useful to users, advertisers, publishers, customers, and content providers. our investments span a wide range of industries beyond\n",
      "\n",
      "continues to build ai into numerous solutions that our customers can use to develop ai - powered applications — including processing documents, images, and translation — to understand and analyze data more efficiently, and to use packaged solutions for a variety of industries. in all these examples, ai significantly enhances the usefulness and multiplies the value of these products and services to people and organizations.\n",
      "\n",
      "an information and computer science company, we will continue to be at the forefront of advancing the frontier of ai. through our path - breaking and field - defining research and development, we responsibly and boldly develop more capable and useful ai every day. ai already powers google ’ s core products that help billions of people every day and has been at the foundation of our core ads quality systems for years, helping large and small businesses all over the world to produce and run effective and efficient ad campaigns that help grow their businesses. ai makes it possible to search in new languages, with multiple inputs, such as using images and text at the same time with the google app. some of our most popular products at google — including lens and translate — were built entirely using artificial intelligence technologies such as optical character recognition and machine learning. google cloud\n",
      "\n",
      "more challenging macroeconomic environment, and as a company we embarked on efforts to sharpen our focus and make sure our efforts are aligned with our highest priorities. near the end of the year, ai reached an inflection point, made possible by our foundational breakthroughs like transformer and advances in diffusion models. it was an exciting moment for us after having worked to develop the technology responsibly for so many years. and on december 18, during the world cup final, google search saw its highest query - per - second volume of all time, a strong signal of our momentum. through it all, we launched new products that helped us advance our mission : to organize the world ’ s information and make it universally accessible and useful. over the past few years, ai has emerged as the most important way we can advance our mission, and in 2022, we made some of our biggest technological advancements yet. in the area of natural language understanding, our latest mo\n",
      "\n"
     ]
    }
   ],
   "source": [
    "query = \"What is the strategy around artificial intelligence (AI) ?\"\n",
    "results = chroma_collection.query(query_texts=query, n_results=5, include=['documents', 'embeddings'])\n",
    "\n",
    "retrieved_documents = results['documents'][0]\n",
    "\n",
    "for document in results['documents'][0]:\n",
    "    print(document)\n",
    "    print('')"
   ]
  },
  {
   "cell_type": "code",
   "execution_count": 18,
   "id": "72916c08-986a-4b50-9f81-76b51a8a0ea7",
   "metadata": {
    "tags": []
   },
   "outputs": [
    {
     "name": "stderr",
     "output_type": "stream",
     "text": [
      "100%|██████████| 1/1 [00:00<00:00, 110.10it/s]\n",
      "100%|██████████| 5/5 [00:00<00:00, 155.00it/s]\n"
     ]
    }
   ],
   "source": [
    "query_embedding = embedding_function([query])[0]\n",
    "retrieved_embeddings = results['embeddings'][0]\n",
    "\n",
    "projected_query_embedding = project_embeddings([query_embedding], umap_transform)\n",
    "projected_retrieved_embeddings = project_embeddings(retrieved_embeddings, umap_transform)"
   ]
  },
  {
   "cell_type": "code",
   "execution_count": 19,
   "id": "868f0b0d-3008-473a-bf4c-2394bb0d8e2e",
   "metadata": {
    "tags": []
   },
   "outputs": [
    {
     "data": {
      "image/png": "[encoded data removed]",
      "text/plain": [
       "<Figure size 640x480 with 1 Axes>"
      ]
     },
     "metadata": {},
     "output_type": "display_data"
    }
   ],
   "source": [
    "plot(title=query, projected_dataset_embeddings=projected_dataset_embeddings, projected_query_embedding=[], projected_retrieved_embeddings=projected_retrieved_embeddings)"
   ]
  },
  {
   "cell_type": "markdown",
   "id": "78cfebfe-c016-482c-ba75-b689e1a0b79a",
   "metadata": {},
   "source": [
    "Another example:"
   ]
  },
  {
   "cell_type": "code",
   "execution_count": 20,
   "id": "2e72676d-71cd-4a22-8cb4-2cd86fd05b93",
   "metadata": {
    "tags": []
   },
   "outputs": [
    {
     "name": "stdout",
     "output_type": "stream",
     "text": [
      "our operating results have fluctuated, and may in the future fluctuate, as a result of a number of factors, many outside of our control, including the cyclicality and seasonality in our business and geopolitical events. as a result, comparing our operating results ( including our expenses as a percentage of our revenues ) on a period - to - period basis may not be meaningful, and our past results should not be relied on as an indication of our future performance. consequently, our operating results in future quarters may fall below expectations. acquisitions, joint ventures, investments, and divestitures could result in operating difficulties, dilution, and other consequences that could harm our business, financial condition, and operating results. acquisitions, joint ventures, investments, and divestitures are important elements of our overall corporate strategy and use of capital,\n",
      "\n",
      "customer contracts with commitments for performance obligations, including our estimate of the remaining amount of commitments and when we expect to recognize revenue ; zfluctuations in our capital expenditures ; zour plans to continue to invest in new businesses, products, services and technologies, systems, land and buildings for data centers, and infrastructure, as well as to continue to invest in acquisitions and strategic investments ; zour pace of hiring and our plans to provide competitive compensation programs ; zour expectation that our cost of revenues, research and development ( r & d ) expenses, sales and marketing expenses, and general and administrative expenses may increase in amount and / or may increase as a percentage of revenues and may be affected by a number of factors ; zestimates of our future compensation expenses ; zour expectation that our other income ( expense ), net ( oi & e ), will fluctuate in the future, as it is largely driven by market dynamics ;\n",
      "\n",
      "our principal sources of liquidity are cash, cash equivalents, and marketable securities, as well as the cash flow that we generate from operations. the primary use of capital continues to be to invest for the long - term growth of the business. we regularly evaluate our cash and capital structure, including the size, pace, and form of capital return to stockholders. the following table presents our cash flows ( in millions ) : year ended december 31, 2021 2022 net cash provided by operating activities $ 91, 652 $ 91, 495 net cash used in investing activities $ ( 35, 523 ) $ ( 20, 298 ) net cash used in financing activities $ ( 61, 362 ) $ ( 69, 757 )\n",
      "\n",
      "preparation of consolidated financial statements in conformity with gaap requires us to make estimates and assumptions that affect the amounts reported and disclosed in the financial statements and the accompanying notes. actual results could differ materially from these estimates due to uncertainties. on an ongoing basis, we evaluate our estimates, including those related to the allowance for credit losses ; fair values of financial instruments, intangible assets, and goodwill ; inventory ; useful lives of intangible assets and property and equipment ; income taxes ; and contingent liabilities, among others. we base our estimates on assumptions, both historical and forward looking, that are believed to be reasonable, and the results of which form the basis for making judgments about the carrying values of assets and liabilities. in january 2023, we completed an assessment of the useful lives of our servers and network equipment and adjusted the estimated\n",
      "\n",
      "accounting principles. a company ’ s internal control over financial reporting includes those policies and procedures that ( 1 ) pertain to the maintenance of records that, in reasonable detail, accurately and fairly reflect the transactions and dispositions of the assets of the company ; ( 2 ) provide reasonable assurance that transactions are recorded as necessary to permit preparation of financial statements in accordance with generally accepted accounting principles, and that receipts and expenditures of the company are being made only in accordance with authorizations of management and directors of the company ; and ( 3 ) provide reasonable assurance regarding prevention or timely detection of unauthorized acquisition, use, or disposition of the company ’ s assets that could have a material effect on the financial statements. because of its inherent limitations, internal control over financial reporting may not prevent or detect misstatements. also, projections\n",
      "\n"
     ]
    },
    {
     "name": "stderr",
     "output_type": "stream",
     "text": [
      "100%|██████████| 1/1 [00:00<00:00, 73.86it/s]\n",
      "100%|██████████| 5/5 [00:00<00:00, 183.58it/s]\n"
     ]
    },
    {
     "data": {
      "image/png": "[encoded data removed]",
      "text/plain": [
       "<Figure size 640x480 with 1 Axes>"
      ]
     },
     "metadata": {},
     "output_type": "display_data"
    }
   ],
   "source": [
    "query = \"What are the company's long-term financial goals?\"\n",
    "results = chroma_collection.query(query_texts=query, n_results=5, include=['documents', 'embeddings'])\n",
    "\n",
    "retrieved_documents = results['documents'][0]\n",
    "\n",
    "for document in results['documents'][0]:\n",
    "    print(document)\n",
    "    print('')\n",
    "\n",
    "query_embedding = embedding_function([query])[0]\n",
    "retrieved_embeddings = results['embeddings'][0]\n",
    "\n",
    "projected_query_embedding = project_embeddings([query_embedding], umap_transform)\n",
    "projected_retrieved_embeddings = project_embeddings(retrieved_embeddings, umap_transform)\n",
    "\n",
    "plot(title=query, projected_dataset_embeddings=projected_dataset_embeddings, projected_query_embedding=[], projected_retrieved_embeddings=projected_retrieved_embeddings)"
   ]
  },
  {
   "cell_type": "markdown",
   "id": "1d167176-6166-477b-8cd1-3318e6ab9f83",
   "metadata": {},
   "source": [
    "Now, let's use an unrelated query and we'll observe how the results are more scattered around. Notice that the algorithm always returns close neighbors even if they are far appart. This is an indication that is returning results that are not necesseraly related to the query.\n"
   ]
  },
  {
   "cell_type": "code",
   "execution_count": 21,
   "id": "cd910e1a-b94a-47ac-821c-1294d8cb6605",
   "metadata": {
    "tags": []
   },
   "outputs": [
    {
     "name": "stdout",
     "output_type": "stream",
     "text": [
      "other bets 753 1, 068 hedging gains ( losses ) 149 1, 960 total revenues $ 257, 637 $ 282, 836\n",
      "\n",
      "we continue to make significant research and development investments in areas of strategic focus as we seek to develop new, innovative offerings and improve our existing offerings across our businesses. we also expect to continue to invest in our technical infrastructure, including servers, network equipment, and data centers, to support the growth of our business and our long - term initiatives, in particular in support of ai. in addition acquisitions and strategic investments contribute to the breadth and depth of our offerings, expand our expertise in engineering and other functional areas, and build strong partnerships around strategic initiatives. for example, in september 2022 we closed the acquisition of mandiant to help expand our offerings in dynamic cyber defense and response. zwe face continuing changes in regulatory conditions, laws, and public policies, which could affect our business practices and financial results.\n",
      "\n",
      "our principal sources of liquidity are cash, cash equivalents, and marketable securities, as well as the cash flow that we generate from operations. the primary use of capital continues to be to invest for the long - term growth of the business. we regularly evaluate our cash and capital structure, including the size, pace, and form of capital return to stockholders. the following table presents our cash flows ( in millions ) : year ended december 31, 2021 2022 net cash provided by operating activities $ 91, 652 $ 91, 495 net cash used in investing activities $ ( 35, 523 ) $ ( 20, 298 ) net cash used in financing activities $ ( 61, 362 ) $ ( 69, 757 )\n",
      "\n",
      "fines and settlements, as well as costs associated with certain shared r & d activities. additionally, hedging gains ( losses ) related to revenue are included in corporate costs. as ai is critical to delivering our mission of bringing our breakthrough innovations into the real world, beginning in january 2023, we will update our segment reporting relating to certain of alphabet ’ s ai activities. deepmind, previously reported within other bets, will be reported as part of alphabet ’ s corporate costs, reflecting its increasing collaboration with google services, google cloud, and other bets. prior periods will be recast to conform to the revised presentation. our operating segments are not evaluated using asset information. the following table presents information about our segments ( in millions ) : year ended december 31, 2020 2021 2022 revenues : google services $ 168, 635 $ 237, 529 $ 253, 528 google cloud 13, 059 19, 206 26, 280 other bets 657 753 1, 068 hedging gains ( losses ) 176 149 1, 960\n",
      "\n",
      "our operating results have fluctuated, and may in the future fluctuate, as a result of a number of factors, many outside of our control, including the cyclicality and seasonality in our business and geopolitical events. as a result, comparing our operating results ( including our expenses as a percentage of our revenues ) on a period - to - period basis may not be meaningful, and our past results should not be relied on as an indication of our future performance. consequently, our operating results in future quarters may fall below expectations. acquisitions, joint ventures, investments, and divestitures could result in operating difficulties, dilution, and other consequences that could harm our business, financial condition, and operating results. acquisitions, joint ventures, investments, and divestitures are important elements of our overall corporate strategy and use of capital,\n",
      "\n"
     ]
    },
    {
     "name": "stderr",
     "output_type": "stream",
     "text": [
      "100%|██████████| 1/1 [00:00<00:00, 128.94it/s]\n",
      "100%|██████████| 5/5 [00:00<00:00, 140.04it/s]\n"
     ]
    },
    {
     "data": {
      "image/png": "[encoded data removed]",
      "text/plain": [
       "<Figure size 640x480 with 1 Axes>"
      ]
     },
     "metadata": {},
     "output_type": "display_data"
    }
   ],
   "source": [
    "query = \"What has Tom Brady done for us lately?\"\n",
    "results = chroma_collection.query(query_texts=query, n_results=5, include=['documents', 'embeddings'])\n",
    "\n",
    "retrieved_documents = results['documents'][0]\n",
    "\n",
    "for document in results['documents'][0]:\n",
    "    print(document)\n",
    "    print('')\n",
    "\n",
    "query_embedding = embedding_function([query])[0]\n",
    "retrieved_embeddings = results['embeddings'][0]\n",
    "\n",
    "projected_query_embedding = project_embeddings([query_embedding], umap_transform)\n",
    "projected_retrieved_embeddings = project_embeddings(retrieved_embeddings, umap_transform)\n",
    "\n",
    "plot(title=query, projected_dataset_embeddings=projected_dataset_embeddings, projected_query_embedding=[], projected_retrieved_embeddings=projected_retrieved_embeddings)"
   ]
  },
  {
   "cell_type": "markdown",
   "id": "67a13b9f-edcc-417a-b710-b288222113b2",
   "metadata": {},
   "source": [
    "## Query Augmentation\n",
    "\n",
    "One way of improving the results from queries is by getting more results of similar queries. This can be done either by creating similar queries or by sending an answer of what you might expect, so that you attach more context. In this task, you learn to expand your queries leveraging LLMs to do the heavy lifting.\n",
    "\n",
    "Augment the query with a probable answer to give more context to the vector search."
   ]
  },
  {
   "cell_type": "code",
   "execution_count": 22,
   "id": "863f7f51-2a37-480a-8603-56179851f437",
   "metadata": {
    "tags": []
   },
   "outputs": [
    {
     "name": "stdout",
     "output_type": "stream",
     "text": [
      "Was there significant turnover in the executive team? ## Executive Team Turnover\n",
      "\n",
      "The company experienced minimal executive team turnover in the past year. The Chief Executive Officer (CEO), [Name], has been in their role for [Number] years and brings a wealth of experience to the company. The Chief Financial Officer (CFO), [Name], has been with the company for [Number] years and provides strong financial leadership. The Chief Operating Officer (COO), [Name], has [Number] years of experience in the industry and oversees the day-to-day operations of the company. \n",
      "\n",
      "The executive team is highly experienced and well-positioned to lead the company through its next phase of growth. The stability of the executive team provides continuity and ensures that the company's strategic goals are being executed effectively. \n",
      "\n"
     ]
    }
   ],
   "source": [
    "def augment_query_generated(query, model):\n",
    "    information = \"\\n\\n\".join(retrieved_documents)\n",
    "\n",
    "    prompt = (f'You are a helpful expert financial research assistant.\\n'\n",
    "    f'Provide an example answer to the given question, that might be found in a document like an annual report.\\n'\n",
    "    f'Question: {query}.')\n",
    "    \n",
    "    responses = model.generate_content(prompt, stream=False)\n",
    "    return responses.text\n",
    "\n",
    "original_query = \"Was there significant turnover in the executive team?\"\n",
    "hypothetical_answer = augment_query_generated(original_query, model)\n",
    "\n",
    "joint_query = f\"{original_query} {hypothetical_answer}\"\n",
    "print(joint_query)"
   ]
  },
  {
   "cell_type": "markdown",
   "id": "e457f1e3-3f26-4bc9-8987-fa40d4919d87",
   "metadata": {},
   "source": [
    "Perform the query with the new augmented query,"
   ]
  },
  {
   "cell_type": "code",
   "execution_count": 23,
   "id": "a6500c92-7c8b-45da-9eea-f3e952a9b9a7",
   "metadata": {
    "tags": []
   },
   "outputs": [
    {
     "name": "stdout",
     "output_type": "stream",
     "text": [
      "item 15 ( collectively referred to as the “ consolidated financial statements ” ). in our opinion, the consolidated financial statements present fairly, in all material respects, the financial position of the company at december 31, 2021 and 2022, and the results of its operations and its cash flows for each of the three years in the period ended december 31, 2022, in conformity with u. s. generally accepted accounting principles. we also have audited, in accordance with the standards of the public company accounting oversight board ( united states ) ( pcaob ), the company ’ s internal control over financial reporting as of december 31, 2022, based on criteria established in internal control — integrated framework issued by the committee of sponsoring organizations of the treadway commission ( 2013 framework ), and our report dated february 2, 2023 expressed an unqualified opinion thereon. basis for opinion\n",
      "\n",
      "/ s / amie thuener o ’ t oolevice president and chief accounting officer ( principal accounting officer ) february 2, 2023 amie thuener o ’ toole / s / frances h. a rnolddirector february 2, 2023 frances h. arnold / s / sergey brin co - founder and director february 2, 2023 sergey brin / s / r. m artin chavezdirector february 2, 2023 r. martin chavez / s / l. j ohn doerr director february 2, 2023 l. john doerr / s / roger w. f erguson jr. director february 2, 2023 roger w. ferguson jr. / s / john l. h ennessydirector, chair february 2, 2023 john l. hennessy / s / a nn mather director february 2, 2023 ann mather / s / larry page co - founder and director february 2, 2023 larry page / s / k. r am shriramdirector february 2, 2023 k. ram shriram / s / robin l. w ashingtondirector february 2, 2023 robin l. washington\n",
      "\n",
      "43 alphabet inc. ● annual report part ii item 8 financial statements and supplementary data report of independent registered public accounting firm to the stockholders and the board of directors of alphabet inc. opinion on internal control over financial reporting we have audited alphabet inc. ’ s internal control over financial reporting as of december 31, 2022, based on criteria established in internal control — integrated framework issued by the committee of sponsoring organizations of the treadway commission ( 2013 framework ) ( the coso criteria ). in our opinion, alphabet inc. ( the company ) maintained, in all material respects, effective internal control over financial reporting as of december 31, 2022, based on the coso criteria. we also have audited, in accordance with the standards of the public company accounting oversight board ( united states ) ( pcaob ),\n",
      "\n",
      "23 alphabet inc. ● annual report part ii item 7 management ’ s discussion and anal ysis of financial condition and results of operations — item 7. m anagement ’ s discussion and anal ysis of financial condition and results of operations please read the following discussion and analysis of our financial condition and results of operations together with “ note about forward - looking statements, ” part i, item 1 “ business, ” part i, item 1a “ risk factors, ” and our consolidated financial statements and related notes included under item 8 of this annual report on form 10 - k. we have omitted discussion of 2020 results where it would be redundant to the discussion previously included in item 7 of our 2021 annual report on form 10 - k. understanding alphabet ’ s financial results\n",
      "\n",
      "41 alphabet inc. ● annual report part ii item 8 financial statements and supplementary data report of independent registered public accounting firm to the stockholders and the board of directors of alphabet inc. opinion on the financial statements we have audited the accompanying consolidated balance sheets of alphabet inc. ( the company ) as of december 31, 2021 and 2022, the related consolidated statements of income, comprehensive income, stockholders ’ equity and cash flows for each of the three years in the period ended december 31, 2022, and the related notes and financial statement schedule listed in the index at\n",
      "\n"
     ]
    }
   ],
   "source": [
    "results = chroma_collection.query(query_texts=joint_query, n_results=5, include=['documents', 'embeddings'])\n",
    "retrieved_documents = results['documents'][0]\n",
    "\n",
    "for doc in retrieved_documents:\n",
    "    print(doc)\n",
    "    print('')"
   ]
  },
  {
   "cell_type": "markdown",
   "id": "12567545-1f0f-4d1b-afab-7eb8868cbb5f",
   "metadata": {},
   "source": [
    "Search for embeddings for the augmented query.\n"
   ]
  },
  {
   "cell_type": "code",
   "execution_count": 24,
   "id": "71dd2149-a090-4761-8667-747386df9247",
   "metadata": {
    "tags": []
   },
   "outputs": [
    {
     "name": "stdout",
     "output_type": "stream",
     "text": [
      "item 15 ( collectively referred to as the “ consolidated financial statements ” ). in our opinion, the consolidated financial statements present fairly, in all material respects, the financial position of the company at december 31, 2021 and 2022, and the results of its operations and its cash flows for each of the three years in the period ended december 31, 2022, in conformity with u. s. generally accepted accounting principles. we also have audited, in accordance with the standards of the public company accounting oversight board ( united states ) ( pcaob ), the company ’ s internal control over financial reporting as of december 31, 2022, based on criteria established in internal control — integrated framework issued by the committee of sponsoring organizations of the treadway commission ( 2013 framework ), and our report dated february 2, 2023 expressed an unqualified opinion thereon. basis for opinion\n",
      "\n",
      "/ s / amie thuener o ’ t oolevice president and chief accounting officer ( principal accounting officer ) february 2, 2023 amie thuener o ’ toole / s / frances h. a rnolddirector february 2, 2023 frances h. arnold / s / sergey brin co - founder and director february 2, 2023 sergey brin / s / r. m artin chavezdirector february 2, 2023 r. martin chavez / s / l. j ohn doerr director february 2, 2023 l. john doerr / s / roger w. f erguson jr. director february 2, 2023 roger w. ferguson jr. / s / john l. h ennessydirector, chair february 2, 2023 john l. hennessy / s / a nn mather director february 2, 2023 ann mather / s / larry page co - founder and director february 2, 2023 larry page / s / k. r am shriramdirector february 2, 2023 k. ram shriram / s / robin l. w ashingtondirector february 2, 2023 robin l. washington\n",
      "\n",
      "43 alphabet inc. ● annual report part ii item 8 financial statements and supplementary data report of independent registered public accounting firm to the stockholders and the board of directors of alphabet inc. opinion on internal control over financial reporting we have audited alphabet inc. ’ s internal control over financial reporting as of december 31, 2022, based on criteria established in internal control — integrated framework issued by the committee of sponsoring organizations of the treadway commission ( 2013 framework ) ( the coso criteria ). in our opinion, alphabet inc. ( the company ) maintained, in all material respects, effective internal control over financial reporting as of december 31, 2022, based on the coso criteria. we also have audited, in accordance with the standards of the public company accounting oversight board ( united states ) ( pcaob ),\n",
      "\n",
      "23 alphabet inc. ● annual report part ii item 7 management ’ s discussion and anal ysis of financial condition and results of operations — item 7. m anagement ’ s discussion and anal ysis of financial condition and results of operations please read the following discussion and analysis of our financial condition and results of operations together with “ note about forward - looking statements, ” part i, item 1 “ business, ” part i, item 1a “ risk factors, ” and our consolidated financial statements and related notes included under item 8 of this annual report on form 10 - k. we have omitted discussion of 2020 results where it would be redundant to the discussion previously included in item 7 of our 2021 annual report on form 10 - k. understanding alphabet ’ s financial results\n",
      "\n",
      "41 alphabet inc. ● annual report part ii item 8 financial statements and supplementary data report of independent registered public accounting firm to the stockholders and the board of directors of alphabet inc. opinion on the financial statements we have audited the accompanying consolidated balance sheets of alphabet inc. ( the company ) as of december 31, 2021 and 2022, the related consolidated statements of income, comprehensive income, stockholders ’ equity and cash flows for each of the three years in the period ended december 31, 2022, and the related notes and financial statement schedule listed in the index at\n",
      "\n"
     ]
    }
   ],
   "source": [
    "results = chroma_collection.query(query_texts=joint_query, n_results=5, include=['documents', 'embeddings'])\n",
    "retrieved_documents = results['documents'][0]\n",
    "\n",
    "for doc in retrieved_documents:\n",
    "    print(doc)\n",
    "    print('')"
   ]
  },
  {
   "cell_type": "markdown",
   "id": "552a969f-bb24-481e-a1f3-5defe10f7e4e",
   "metadata": {},
   "source": [
    "Get the embeddings for the queries and results and then map them to a 2-dimensional space."
   ]
  },
  {
   "cell_type": "code",
   "execution_count": 25,
   "id": "bbb69be6-9c1d-4f21-a4cf-881efead28be",
   "metadata": {
    "tags": []
   },
   "outputs": [
    {
     "name": "stderr",
     "output_type": "stream",
     "text": [
      "100%|██████████| 1/1 [00:00<00:00, 149.65it/s]\n",
      "100%|██████████| 1/1 [00:00<00:00, 162.29it/s]\n",
      "100%|██████████| 5/5 [00:00<00:00, 204.09it/s]\n"
     ]
    }
   ],
   "source": [
    "retrieved_embeddings = results['embeddings'][0]\n",
    "original_query_embedding = embedding_function([original_query])\n",
    "augmented_query_embedding = embedding_function([joint_query])\n",
    "\n",
    "projected_original_query_embedding = project_embeddings(original_query_embedding, umap_transform)\n",
    "projected_augmented_query_embedding = project_embeddings(augmented_query_embedding, umap_transform)\n",
    "projected_retrieved_embeddings = project_embeddings(retrieved_embeddings, umap_transform)"
   ]
  },
  {
   "cell_type": "markdown",
   "id": "a412c45a-be03-48d7-8c09-518df0a12e88",
   "metadata": {},
   "source": [
    "Map the results to get a visual understanding of the outcome. Notice that the selected answers are closer to the augmented query datapoint."
   ]
  },
  {
   "cell_type": "code",
   "execution_count": 26,
   "id": "39382134-8d66-44ec-b037-1d7f3d91a585",
   "metadata": {
    "tags": []
   },
   "outputs": [
    {
     "data": {
      "text/plain": [
       "(-1.4102312833070756, 8.613915792107582, 1.0237262845039368, 8.612713277339935)"
      ]
     },
     "execution_count": 26,
     "metadata": {},
     "output_type": "execute_result"
    },
    {
     "data": {
      "image/png": "[encoded data removed]",
      "text/plain": [
       "<Figure size 640x480 with 1 Axes>"
      ]
     },
     "metadata": {},
     "output_type": "display_data"
    }
   ],
   "source": [
    "plt.figure()\n",
    "plt.scatter(projected_dataset_embeddings[:, 0], projected_dataset_embeddings[:, 1], s=10, color='gray')\n",
    "plt.scatter(projected_retrieved_embeddings[:, 0], projected_retrieved_embeddings[:, 1], s=100, facecolors='none', edgecolors='g')\n",
    "plt.scatter(projected_original_query_embedding[:, 0], projected_original_query_embedding[:, 1], s=150, marker='X', color='r')\n",
    "plt.scatter(projected_augmented_query_embedding[:, 0], projected_augmented_query_embedding[:, 1], s=150, marker='X', color='orange')\n",
    "\n",
    "plt.gca().set_aspect('equal', 'datalim')\n",
    "plt.title(f'{original_query}')\n",
    "plt.axis('off')"
   ]
  },
  {
   "cell_type": "markdown",
   "id": "b8c4528b-6532-4a92-a1a4-a98cafb75679",
   "metadata": {},
   "source": [
    "Augment the query with additional queries."
   ]
  },
  {
   "cell_type": "code",
   "execution_count": 27,
   "id": "34069a15-a535-4c0e-825e-dd11aad51275",
   "metadata": {
    "tags": []
   },
   "outputs": [
    {
     "name": "stdout",
     "output_type": "stream",
     "text": [
      "What were the most important factors that contributed to increases in revenue? \n",
      "What were the company's main sources of revenue?\n",
      "How much revenue did each product or service generate?\n",
      "Did the company experience any significant changes in its customer base?\n",
      "How did the company's pricing strategy impact its revenue?\n",
      "Did the company benefit from any favorable economic conditions?\n"
     ]
    }
   ],
   "source": [
    "def augment_multiple_query(query, model):\n",
    "    information = \"\\n\\n\".join(retrieved_documents)\n",
    "\n",
    "    prompt = (f'You are a helpful expert financial research assistant.\\n'\n",
    "    f'Your users are asking questions about an annual report.\\n'\n",
    "    f'Suggest up to five additional related questions to help them find the information they need, for the provided question.\\n'\n",
    "    f'Suggest only short questions without compound sentences. Suggest a variety of questions that cover different aspects of the topic.\\n'\n",
    "    f'Make sure they are complete questions, and that they are related to the original question.\\n'\n",
    "    f'Output one question per line. Do not number the questions.\\n'\n",
    "    f'Question: {query}.')\n",
    "    \n",
    "    responses = model.generate_content(prompt, stream=False)\n",
    "    return responses.text\n",
    "\n",
    "original_query = \"What were the most important factors that contributed to increases in revenue?\"\n",
    "augmented_queries = augment_multiple_query(original_query, model)\n",
    "\n",
    "joint_query = f\"{original_query} \\n{augmented_queries}\"\n",
    "print(joint_query)"
   ]
  },
  {
   "cell_type": "markdown",
   "id": "3293746a-a297-47ad-a89e-eb6da9c86897",
   "metadata": {},
   "source": [
    "Retrieve answers for all of these queries.\n"
   ]
  },
  {
   "cell_type": "code",
   "execution_count": 28,
   "id": "6ea174e3-17de-44df-b7b3-114f0cccd1aa",
   "metadata": {
    "tags": []
   },
   "outputs": [
    {
     "name": "stdout",
     "output_type": "stream",
     "text": [
      "Query: What were the most important factors that contributed to increases in revenue?\n",
      "\n",
      "Results:\n",
      ". due to these factors and the evolving nature of our business, our historical revenue growth rate and historical operating margin may not be indicative of our future performance. for additional information, see trends in our business and financial effect and revenues and monetization metrics in part ii, item 7 of this annual report on form 10 - k.\n",
      "\n",
      "our revenue growth rate could decline over time, and we anticipate downward pressure on our operating margin in the future. our revenue growth rate could decline over time as a result of a number of factors, including changes in the devices and modalities used to access our products and services ; changes in geographic mix ; deceleration or declines in advertiser spending ; competition ; customer usage and demand for our products ; decreases in our pricing of our products and services ; ongoing product and policy changes ; and shifts to lower priced products and services. in addition, we may also experience downward pressure on our operating margin resulting from a variety of factors, such as the\n",
      "\n",
      "in addition to the long - term trends and their financial effect on our business noted above, fluctuations in our revenues have been and may continue to be affected by a combination of factors, including : zchanges in foreign currency exchange rates ; zchanges in pricing, such as those resulting from changes in fee structures, discounts, and customer incentives ; zgeneral economic conditions and various external dynamics, including geopolitical events, regulations, and other measures and their effect on advertiser, consumer, and enterprise spending ; znew product and service launches ; and zseasonality. additionally, fluctuations in our revenues generated from advertising ( “ google advertising ” ), revenues from other sources ( “ google other revenues ” ), google cloud, and other bets revenues have been and may continue to be affected by other factors unique to each set of revenues, as described below.\n",
      "\n",
      "( 1 ) see “ use of non - gaap constant currency measures ” below for details relating to our use of constant currency information. zrevenues were $ 282. 8 billion, an increase of 10 % year over year, primarily driven by an increase in google services revenues of $ 16. 0 billion, or 7 %, and an increase in google cloud revenues of $ 7. 1 billion, or 37 %. ztotal constant currency revenues, which exclude the effect of hedging, increased 14 % year over year. zcost of revenues was $ 126. 2 billion, an increase of 14 % year over year, primarily driven by an increase in other costs of revenues. zoperating expenses were $ 81. 8 billion, an increase of 20 % year over year, primarily driven by increases in compensation expenses due to headcount growth, third - party service fees, and advertising and promotional expenses. other information :\n",
      "\n",
      "zour employees are critical to our success and we expect to continue investing in them. our employees are among our best assets and are critical for our continued success. we expect to continue hiring talented employees around the globe and to provide competitive compensation programs. for additional information see culture and workforce in part i, item 1 “ business. ” revenues and monetization metrics we generate revenues by delivering relevant, cost - effective online advertising ; cloud - based solutions that provide enterprise customers of all sizes with infrastructure and platform services as well as communication and collaboration tools ; sales of other products and services, such as apps and in - app purchases, and hardware ; and fees received for subscription - based products. for details on how we recognize revenue, see note 1 of the notes to consolidated financial statements included in item 8 of this annual report on form 10 - k.\n",
      "\n",
      "----------------------------------------------------------------------------------------------------\n",
      "Query: What were the company's main sources of revenue?\n",
      "\n",
      "Results:\n",
      "zour employees are critical to our success and we expect to continue investing in them. our employees are among our best assets and are critical for our continued success. we expect to continue hiring talented employees around the globe and to provide competitive compensation programs. for additional information see culture and workforce in part i, item 1 “ business. ” revenues and monetization metrics we generate revenues by delivering relevant, cost - effective online advertising ; cloud - based solutions that provide enterprise customers of all sizes with infrastructure and platform services as well as communication and collaboration tools ; sales of other products and services, such as apps and in - app purchases, and hardware ; and fees received for subscription - based products. for details on how we recognize revenue, see note 1 of the notes to consolidated financial statements included in item 8 of this annual report on form 10 - k.\n",
      "\n",
      "32 alphabet inc. ● annual report part ii item 7 management ’ s discussion and anal ysis of financial condition and results of operations sales and marketing the following table presents sales and marketing expenses ( in millions, except percentages ) : year ended december 31, 2021 2022 sales and marketing expenses $ 22, 912 $ 26, 567 sales and marketing expenses as a percentage of revenues 9 % 9 % sales and marketing expenses increased $ 3. 7 billion from 2021 to 2022, primarily driven by an increase in compensation expenses of $ 1. 8 billion, largely resulting from a 19 % increase in average headcount, and an increase in advertising and promotional activities of $ 1. 3 billion. general and administrative the following table presents general and administrative expenses ( in millions, except percentages ) : year ended december 31, 2021 2022 general and administrative expenses $ 13, 510 $ 15, 724 general and administrative expenses as a percentage of revenues 5 % 6 %\n",
      "\n",
      "34 alphabet inc. ● annual report part ii item 7 management ’ s discussion and anal ysis of financial condition and results of operations cash provided by operating activities our largest source of cash provided by operations are advertising revenues generated by google search & other properties, google network properties, and youtube properties. additionally, we generate cash through sales of apps and in - app purchases, and hardware ; and licensing and service fees, including fees received for google cloud offerings and subscription - based products. our primary uses of cash from operating activities include payments to distribution and google network partners, to employees for compensation, and to content providers. other uses of cash from operating activities include payments to suppliers for hardware, to tax authorities for income taxes, and other general corporate expenditures.\n",
      "\n",
      "patents and developed technology $ 349 4. 8 customer relationships 366 8. 0 trade names and other 125 5. 9 total intangible assets $ 840\n",
      "\n",
      "total revenues $ 182, 527 $ 257, 637 $ 282, 836 operating income ( loss ) : google services $ 54, 606 $ 91, 855 $ 86, 572 google cloud ( 5, 607 ) ( 3, 099 ) ( 2, 968 ) other bets ( 4, 476 ) ( 5, 281 ) ( 6, 083 ) corporate costs, unallocated ( 3, 299 ) ( 4, 761 ) ( 2, 679 ) total income from operations $ 41, 224 $ 78, 714 $ 74, 842\n",
      "\n",
      "----------------------------------------------------------------------------------------------------\n",
      "Query: How much revenue did each product or service generate?\n",
      "\n",
      "Results:\n",
      "zour employees are critical to our success and we expect to continue investing in them. our employees are among our best assets and are critical for our continued success. we expect to continue hiring talented employees around the globe and to provide competitive compensation programs. for additional information see culture and workforce in part i, item 1 “ business. ” revenues and monetization metrics we generate revenues by delivering relevant, cost - effective online advertising ; cloud - based solutions that provide enterprise customers of all sizes with infrastructure and platform services as well as communication and collaboration tools ; sales of other products and services, such as apps and in - app purchases, and hardware ; and fees received for subscription - based products. for details on how we recognize revenue, see note 1 of the notes to consolidated financial statements included in item 8 of this annual report on form 10 - k.\n",
      "\n",
      "adjusted to reflect the effects of the stock split. revenue recognition revenues are recognized when control of the promised goods or services is transferred to our customers, and the collectibility of an amount that we expect in exchange for those goods or services is probable. sales and other similar taxes are excluded from revenues. advertising revenues we generate advertising revenues primarily by delivering advertising on : zgoogle search and other properties, including revenues from traffic generated by search distribution partners who use google. com as their default search in browsers, toolbars, etc. and other google owned and operated properties like gmail, google maps, and google play ; zyoutube properties ; and zgoogle network properties, including revenues from google network properties participating in admob, adsense, and google ad manager.\n",
      "\n",
      "32 alphabet inc. ● annual report part ii item 7 management ’ s discussion and anal ysis of financial condition and results of operations sales and marketing the following table presents sales and marketing expenses ( in millions, except percentages ) : year ended december 31, 2021 2022 sales and marketing expenses $ 22, 912 $ 26, 567 sales and marketing expenses as a percentage of revenues 9 % 9 % sales and marketing expenses increased $ 3. 7 billion from 2021 to 2022, primarily driven by an increase in compensation expenses of $ 1. 8 billion, largely resulting from a 19 % increase in average headcount, and an increase in advertising and promotional activities of $ 1. 3 billion. general and administrative the following table presents general and administrative expenses ( in millions, except percentages ) : year ended december 31, 2021 2022 general and administrative expenses $ 13, 510 $ 15, 724 general and administrative expenses as a percentage of revenues 5 % 6 %\n",
      "\n",
      "total revenues $ 182, 527 $ 257, 637 $ 282, 836 operating income ( loss ) : google services $ 54, 606 $ 91, 855 $ 86, 572 google cloud ( 5, 607 ) ( 3, 099 ) ( 2, 968 ) other bets ( 4, 476 ) ( 5, 281 ) ( 6, 083 ) corporate costs, unallocated ( 3, 299 ) ( 4, 761 ) ( 2, 679 ) total income from operations $ 41, 224 $ 78, 714 $ 74, 842\n",
      "\n",
      "patents and developed technology $ 349 4. 8 customer relationships 366 8. 0 trade names and other 125 5. 9 total intangible assets $ 840\n",
      "\n",
      "----------------------------------------------------------------------------------------------------\n",
      "Query: Did the company experience any significant changes in its customer base?\n",
      "\n",
      "Results:\n",
      "alphabet is a collection of businesses — the largest of which is google. we report google in two segments, google services and google cloud ; we also report all non - google businesses collectively as other bets. for further details on our segments, see part i, item 1 “ business ” and note 15 of the notes to consolidated financial statements included in item 8 of this annual report on form 10 - k. trends in our business and financial effect the following long - term trends have contributed to the results of our consolidated operations, and we anticipate that they will continue to affect our future results : zusers ’ behaviors and advertising continue to shift online as the digital economy evolves.\n",
      "\n",
      "services, google cloud, and other bets increases our ability to enter new categories and launch new and innovative products and services that better serve the needs of our users, advertisers, customers, content providers, and other partners. our brands have been, and may in the future be, negatively affected by a number of factors, including, among others, reputational issues, third - party content shared on our platforms, data privacy and security issues and developments, and product or technical performance failures. for example, if we fail to respond appropriately to the sharing of misinformation or objectionable content on our services and / or products or objectionable practices by advertisers, or otherwise to adequately address user concerns, our users may lose confidence in our brands. furthermore, failure to maintain and enhance our brands could harm our business, reputation, financial condition, and operating\n",
      "\n",
      ". failing to attract and retain a substantial number of new device manufacturers, suppliers, distributors, developers, and users, or failing to develop products and technologies that work well on new devices and platforms, could harm our business, financial condition, and operating results and ability to capture future business opportunities.\n",
      "\n",
      "49 alphabet inc. ● annual report part ii item 8 financial statements and supplementary data — alphabet inc. notes to consolidated financial statements note 1. summar y of significant accounting policies nature of operations google was incorporated in california in september 1998 and re - incorporated in the state of delaware in august 2003. in 2015, we implemented a holding company reorganization, and as a result, alphabet inc. ( “ alphabet ” ) became the successor issuer to google. we generate revenues by delivering relevant, cost - effective online advertising ; cloud - based solutions that provide enterprise customers with infrastructure and platform services as well as communication and collaboration tools ; sales of other products and services, such as apps and in - app purchases, and hardware ; and fees received for subscription - based products. basis of consolidation\n",
      "\n",
      ". to support developers, we launched several new features like custom store listings, a new way to reach a specific segment of people with messaging relevant to them, so they can expand their businesses more effectively and efficiently.\n",
      "\n",
      "----------------------------------------------------------------------------------------------------\n",
      "Query: How did the company's pricing strategy impact its revenue?\n",
      "\n",
      "Results:\n",
      "32 alphabet inc. ● annual report part ii item 7 management ’ s discussion and anal ysis of financial condition and results of operations sales and marketing the following table presents sales and marketing expenses ( in millions, except percentages ) : year ended december 31, 2021 2022 sales and marketing expenses $ 22, 912 $ 26, 567 sales and marketing expenses as a percentage of revenues 9 % 9 % sales and marketing expenses increased $ 3. 7 billion from 2021 to 2022, primarily driven by an increase in compensation expenses of $ 1. 8 billion, largely resulting from a 19 % increase in average headcount, and an increase in advertising and promotional activities of $ 1. 3 billion. general and administrative the following table presents general and administrative expenses ( in millions, except percentages ) : year ended december 31, 2021 2022 general and administrative expenses $ 13, 510 $ 15, 724 general and administrative expenses as a percentage of revenues 5 % 6 %\n",
      "\n",
      "general and administrative expenses increased $ 2. 2 billion from 2021 to 2022. the increase was primarily driven by an increase in compensation expenses of $ 1. 1 billion, largely resulting from a 21 % increase in average headcount, and an increase in third - party services fees of $ 815 million. in addition, there was a $ 551 million increase to the allowance for credit losses for accounts receivable, as the prior year comparable period reflected a decline in the allowance. segment profitability the following table presents segment operating income ( loss ) ( in millions ). year ended december 31, 2021 2022 operating income ( loss ) : google services $ 91, 855 $ 86, 572 google cloud ( 3, 099 ) ( 2, 968 ) other bets ( 5, 281 ) ( 6, 083 ) corporate costs, unallocated ( 1 ) ( 4, 761 ) ( 2, 679 ) total income from operations $ 78, 714 $ 74, 842 ( 1 ) unallocated corporate costs primarily include corporate initiatives, corporate shared costs, such as finance and legal, including certain fines and\n",
      "\n",
      "we report revenues from google play app sales and in - app purchases on a net basis, because our performance obligation is to facilitate a transaction between app developers and end users, for which we earn a service fee. arrangements with multiple performance obligations our contracts with customers may include multiple performance obligations. for such arrangements, we allocate revenues to each performance obligation based on its relative standalone selling price. we generally determine standalone selling prices based on the prices charged to customers. customer incentives and credits certain customers receive cash - based incentives or credits, which are accounted for as variable consideration. we estimate these amounts based on the expected amount to be provided to customers and reduce revenues. we believe that there will not be significant changes to our estimates of variable consideration. sales commissions\n",
      "\n",
      "non - advertising revenues have grown over time, and we expect this trend to continue as we focus on expanding our products and services. the margins on these revenues vary significantly and are generally lower than the margins on our advertising revenues. in particular margins on our hardware products adversely affect our consolidated margins due to pressures on pricing and higher cost of sales. zas we continue to serve our users and expand our businesses, we will invest heavily in operating and capital expenditures.\n",
      "\n",
      "continued expansion of our business into new fields, including products and services such as hardware, google cloud, and subscription products, as well as significant investments in other bets, all of which may have margins lower than those we generate from advertising. in particular, margins on our hardware products have had, and may continue to have, an adverse affect on our consolidated margins due to pressures on pricing and higher cost of sales. we may also experience downward pressure on our operating margins from increasing regulations, increasing competition, and increasing costs for many aspects of our business. further, certain of our costs and expenses are generally less variable in nature and may not correlate to changes in revenue. additionally, in conjunction with our efforts to re - engineer costs, we may not be able to execute these efforts in a timely manner or these efforts may not be successful\n",
      "\n",
      "----------------------------------------------------------------------------------------------------\n",
      "Query: Did the company benefit from any favorable economic conditions?\n",
      "\n",
      "Results:\n",
      "be negatively affected if we are not able to engage these companies with the necessary capabilities or capacity on reasonable terms, or if those we engage fail to meet their obligations ( whether due to financial difficulties or other reasons ), or make adverse changes in the pricing or other material terms of our arrangements with them. we have experienced and / or may in the future experience supply shortages, price increases, and / or longer lead times that could negatively affect our operations, driven by raw material, component availability, manufacturing capacity, labor shortages, industry allocations, logistics capacity, inflation, foreign currency exchange rates, tariffs, sanctions and export controls, trade disputes and barriers, geopolitical tensions, armed conflicts, natural disasters or pandemics, the effects of climate change ( such as sea level rise,\n",
      "\n",
      "preferences, quality, product recalls, and warranty issues. for instance, because certain of our hardware supply contracts have volume - based pricing or minimum purchase requirements, if the volume of our hardware sales decreases or does not reach projected targets, we could face increased materials and manufacturing costs or other financial liabilities that could make our products more costly per unit to manufacture and harm our financial condition and operating results. furthermore, certain of our competitors may negotiate more favorable contractual terms based on volume and other commitments that may provide them with competitive advantages and may affect our supply.\n",
      "\n",
      "results. our success will depend largely on our ability to remain a technology leader and continue to provide high - quality, trustworthy, innovative products and services that are truly useful and play a valuable role in a range of settings. we face a number of manufacturing and supply chain risks that could harm our business, financial condition, and operating results. we face a number of risks related to manufacturing and supply chain management, which could affect our ability to supply both our products and our services. we rely on contract manufacturers to manufacture or assemble our hardware products and servers and networking equipment used in our technical infrastructure, and we may supply the contract manufacturers with components to assemble the hardware products and equipment. we also rely on other companies to participate in the distribution of our products and services. our business could\n",
      "\n",
      "harm our business, financial condition, and operating results. our business, operations and financial performance have been, and may continue to be, affected by the macroeconomic impacts resulting from covid - 19, and as a result, our revenue growth rate and expenses as a percentage of our revenues in future periods may differ significantly from our historical rates, and our future operating results may fall below expectations. the extent to which our business will continue to be affected will depend on a variety of factors, many of which are outside of our control, including the persistence of the pandemic, impacts on economic activity, and the possibility of recession or continued financial market instability. our operating results may fluctuate, which makes our results difficult to predict and could cause our results to fall short of expectations.\n",
      "\n",
      ". any of these incidents could impede or prevent us from effectively offering products and providing services, which could harm our reputation, financial condition, and operating results.\n",
      "\n",
      "----------------------------------------------------------------------------------------------------\n"
     ]
    }
   ],
   "source": [
    "queries = [original_query] + augmented_queries.split('\\n')\n",
    "results = chroma_collection.query(query_texts=queries, n_results=5, include=['documents', 'embeddings'])\n",
    "\n",
    "retrieved_documents = results['documents']\n",
    "\n",
    "# Deduplicate the retrieved documents\n",
    "unique_documents = set()\n",
    "for documents in retrieved_documents:\n",
    "    for document in documents:\n",
    "        unique_documents.add(document)\n",
    "\n",
    "for i, documents in enumerate(retrieved_documents):\n",
    "    print(f\"Query: {queries[i]}\")\n",
    "    print('')\n",
    "    print(\"Results:\")\n",
    "    for doc in documents:\n",
    "        print(doc)\n",
    "        print('')\n",
    "    print('-'*100)"
   ]
  },
  {
   "cell_type": "markdown",
   "id": "29a446d6-cd42-4e7d-847d-8d0300dd5a2a",
   "metadata": {},
   "source": [
    "Project the queries embeddings into a 2-dimensional space"
   ]
  },
  {
   "cell_type": "code",
   "execution_count": 29,
   "id": "5937c5ed-5f01-4de9-bbbc-c6fc4352467d",
   "metadata": {
    "tags": []
   },
   "outputs": [
    {
     "name": "stderr",
     "output_type": "stream",
     "text": [
      "100%|██████████| 1/1 [00:00<00:00, 112.44it/s]\n",
      "100%|██████████| 299/299 [00:01<00:00, 179.66it/s]\n"
     ]
    }
   ],
   "source": [
    "original_query_embedding = embedding_function([original_query])\n",
    "augmented_query_embeddings = embedding_function(augmented_queries)\n",
    "\n",
    "project_original_query = project_embeddings(original_query_embedding, umap_transform)\n",
    "project_augmented_queries = project_embeddings(augmented_query_embeddings, umap_transform)"
   ]
  },
  {
   "cell_type": "markdown",
   "id": "03e7bdd5-0ad7-4573-bae0-f94c5507decf",
   "metadata": {
    "tags": []
   },
   "source": [
    "Now project the answer embeddings."
   ]
  },
  {
   "cell_type": "code",
   "execution_count": 30,
   "id": "68a10d02-0efc-48fd-9d1d-415c20999a85",
   "metadata": {
    "tags": []
   },
   "outputs": [
    {
     "name": "stderr",
     "output_type": "stream",
     "text": [
      "100%|██████████| 30/30 [00:00<00:00, 48.06it/s]\n"
     ]
    }
   ],
   "source": [
    "result_embeddings = results['embeddings']\n",
    "result_embeddings = [item for sublist in result_embeddings for item in sublist]\n",
    "projected_result_embeddings = project_embeddings(result_embeddings, umap_transform)"
   ]
  },
  {
   "cell_type": "markdown",
   "id": "24a08640-0184-4a4f-92d4-bdeb50ab9f60",
   "metadata": {},
   "source": [
    "Plot the queries and answers."
   ]
  },
  {
   "cell_type": "code",
   "execution_count": 32,
   "id": "ef231e29-aa73-4adc-ad8c-425c4ad72450",
   "metadata": {
    "tags": []
   },
   "outputs": [
    {
     "data": {
      "text/plain": [
       "(-1.4102312833070756, 8.613915792107582, 1.0237262845039368, 8.612713277339935)"
      ]
     },
     "execution_count": 32,
     "metadata": {},
     "output_type": "execute_result"
    },
    {
     "data": {
      "image/png": "[encoded data removed]",
      "text/plain": [
       "<Figure size 640x480 with 1 Axes>"
      ]
     },
     "metadata": {},
     "output_type": "display_data"
    }
   ],
   "source": [
    "import matplotlib.pyplot as plt\n",
    "\n",
    "plt.figure()\n",
    "plt.scatter(projected_dataset_embeddings[:, 0], projected_dataset_embeddings[:, 1], s=10, color='gray')\n",
    "plt.scatter(project_augmented_queries[:, 0], project_augmented_queries[:, 1], s=150, marker='X', color='orange')\n",
    "plt.scatter(projected_result_embeddings[:, 0], projected_result_embeddings[:, 1], s=100, facecolors='none', edgecolors='g')\n",
    "plt.scatter(project_original_query[:, 0], project_original_query[:, 1], s=150, marker='X', color='r')\n",
    "\n",
    "plt.gca().set_aspect('equal', 'datalim')\n",
    "plt.title(f'{original_query}')\n",
    "plt.axis('off')"
   ]
  },
  {
   "cell_type": "markdown",
   "id": "63c8b3c1-c8f7-4c97-a175-299cc1717ffd",
   "metadata": {},
   "source": [
    "## Re-ranking results\n",
    "\n",
    "With the query expansion technique that we just discussed, we increased the cardinality of responses. We have a new problem now. The high amount of responses might be larger than the LLM's input token limit and, it will be more expensive to process such a high amount of tokens, since we are billed per token. One solution to this problem is to rerank the results and only send the most relevant ones. Now, instead of using the same cosine-similarity method as before, you could use a cross-encoder, a method that usually yields better results."
   ]
  },
  {
   "cell_type": "code",
   "execution_count": 33,
   "id": "f168f53c-6b33-4345-91e4-69fd57f962a0",
   "metadata": {
    "tags": []
   },
   "outputs": [
    {
     "data": {
      "application/vnd.jupyter.widget-view+json": {
       "model_id": "c2f3a0481b6d4734bef9e262daaaa2ce",
       "version_major": 2,
       "version_minor": 0
      },
      "text/plain": [
       "config.json:   0%|          | 0.00/794 [00:00<?, ?B/s]"
      ]
     },
     "metadata": {},
     "output_type": "display_data"
    },
    {
     "data": {
      "application/vnd.jupyter.widget-view+json": {
       "model_id": "a259eff5ee53424da05792e3f15bc75a",
       "version_major": 2,
       "version_minor": 0
      },
      "text/plain": [
       "pytorch_model.bin:   0%|          | 0.00/90.9M [00:00<?, ?B/s]"
      ]
     },
     "metadata": {},
     "output_type": "display_data"
    },
    {
     "data": {
      "application/vnd.jupyter.widget-view+json": {
       "model_id": "57773620c19b4a9fa0b364245ecdb662",
       "version_major": 2,
       "version_minor": 0
      },
      "text/plain": [
       "tokenizer_config.json:   0%|          | 0.00/316 [00:00<?, ?B/s]"
      ]
     },
     "metadata": {},
     "output_type": "display_data"
    },
    {
     "data": {
      "application/vnd.jupyter.widget-view+json": {
       "model_id": "9bbb2ff8f4b24b73b1bbeaece9c0d3e5",
       "version_major": 2,
       "version_minor": 0
      },
      "text/plain": [
       "vocab.txt:   0%|          | 0.00/232k [00:00<?, ?B/s]"
      ]
     },
     "metadata": {},
     "output_type": "display_data"
    },
    {
     "data": {
      "application/vnd.jupyter.widget-view+json": {
       "model_id": "28cd10ea2a06434c83d345804a39ea7e",
       "version_major": 2,
       "version_minor": 0
      },
      "text/plain": [
       "special_tokens_map.json:   0%|          | 0.00/112 [00:00<?, ?B/s]"
      ]
     },
     "metadata": {},
     "output_type": "display_data"
    },
    {
     "data": {
      "application/vnd.jupyter.widget-view+json": {
       "model_id": "d4c3c397ac3843959edbca968082a371",
       "version_major": 2,
       "version_minor": 0
      },
      "text/plain": [
       "model.safetensors:   0%|          | 0.00/90.9M [00:00<?, ?B/s]"
      ]
     },
     "metadata": {},
     "output_type": "display_data"
    }
   ],
   "source": [
    "from sentence_transformers import CrossEncoder\n",
    "cross_encoder = CrossEncoder('cross-encoder/ms-marco-MiniLM-L-6-v2')"
   ]
  },
  {
   "cell_type": "markdown",
   "id": "576c6e9e-63fd-4884-8cc5-3867a3859508",
   "metadata": {},
   "source": [
    "Create pairs of queries."
   ]
  },
  {
   "cell_type": "code",
   "execution_count": 34,
   "id": "c0bb1291-033d-43f8-939e-a6485f30460b",
   "metadata": {
    "tags": []
   },
   "outputs": [],
   "source": [
    "pairs = []\n",
    "for doc in unique_documents:\n",
    "    pairs.append([original_query, doc])"
   ]
  },
  {
   "cell_type": "markdown",
   "id": "a0ad592e-a6ee-433f-b0e4-4fe1e7961383",
   "metadata": {},
   "source": [
    "Compute and print the similarity between the pairs."
   ]
  },
  {
   "cell_type": "code",
   "execution_count": 35,
   "id": "2d0fda13-f429-46f4-aa23-7e8d26abadcb",
   "metadata": {
    "tags": []
   },
   "outputs": [
    {
     "name": "stdout",
     "output_type": "stream",
     "text": [
      "Scores:\n",
      "-7.1594296\n",
      "-4.6782827\n",
      "-10.859755\n",
      "-2.96743\n",
      "-10.15786\n",
      "-9.154207\n",
      "-10.981327\n",
      "-11.195702\n",
      "-10.483877\n",
      "-8.229428\n",
      "-4.349069\n",
      "0.4199424\n",
      "-10.965235\n",
      "-9.802288\n",
      "-11.106058\n",
      "-6.073109\n",
      "-7.320813\n",
      "-11.0492\n",
      "1.3391342\n",
      "-10.0091\n",
      "-10.72445\n",
      "-7.6591444\n",
      "-9.314676\n",
      "-4.737796\n"
     ]
    }
   ],
   "source": [
    "scores = cross_encoder.predict(pairs)\n",
    "\n",
    "print(\"Scores:\")\n",
    "for score in scores:\n",
    "    print(score)"
   ]
  },
  {
   "cell_type": "markdown",
   "id": "f54fd1e5-9e16-4f3b-bf9c-7d5cb2c82fd6",
   "metadata": {},
   "source": [
    "Reorder the pairs in terms of relevance."
   ]
  },
  {
   "cell_type": "code",
   "execution_count": 36,
   "id": "69461c0f-3389-4c47-bd81-0812a6c3eaea",
   "metadata": {
    "tags": []
   },
   "outputs": [
    {
     "name": "stdout",
     "output_type": "stream",
     "text": [
      "New Ordering:\n",
      "18\n",
      "11\n",
      "3\n",
      "10\n",
      "1\n",
      "23\n",
      "15\n",
      "0\n",
      "16\n",
      "21\n",
      "9\n",
      "5\n",
      "22\n",
      "13\n",
      "19\n",
      "4\n",
      "8\n",
      "20\n",
      "2\n",
      "12\n",
      "6\n",
      "17\n",
      "14\n",
      "7\n"
     ]
    }
   ],
   "source": [
    "print(\"New Ordering:\")\n",
    "ranked_docs=['']*len(scores)\n",
    "i = 0\n",
    "for position in np.argsort(scores)[::-1]:\n",
    "    ranked_docs[position] = pairs[i][1]\n",
    "    i+=1\n",
    "    print(position)"
   ]
  },
  {
   "cell_type": "markdown",
   "id": "7a96b6ca-1e2f-41a7-ba80-4d4acf20557b",
   "metadata": {},
   "source": [
    "Five most relevant:"
   ]
  },
  {
   "cell_type": "code",
   "execution_count": 37,
   "id": "1507f880-d0ab-4ee8-8978-39c9947c36a0",
   "metadata": {
    "tags": []
   },
   "outputs": [
    {
     "data": {
      "text/plain": [
       "['. to support developers, we launched several new features like custom store listings, a new way to reach a specific segment of people with messaging relevant to them, so they can expand their businesses more effectively and efficiently.',\n",
       " 'we report revenues from google play app sales and in - app purchases on a net basis, because our performance obligation is to facilitate a transaction between app developers and end users, for which we earn a service fee. arrangements with multiple performance obligations our contracts with customers may include multiple performance obligations. for such arrangements, we allocate revenues to each performance obligation based on its relative standalone selling price. we generally determine standalone selling prices based on the prices charged to customers. customer incentives and credits certain customers receive cash - based incentives or credits, which are accounted for as variable consideration. we estimate these amounts based on the expected amount to be provided to customers and reduce revenues. we believe that there will not be significant changes to our estimates of variable consideration. sales commissions',\n",
       " 'our revenue growth rate could decline over time, and we anticipate downward pressure on our operating margin in the future. our revenue growth rate could decline over time as a result of a number of factors, including changes in the devices and modalities used to access our products and services ; changes in geographic mix ; deceleration or declines in advertiser spending ; competition ; customer usage and demand for our products ; decreases in our pricing of our products and services ; ongoing product and policy changes ; and shifts to lower priced products and services. in addition, we may also experience downward pressure on our operating margin resulting from a variety of factors, such as the',\n",
       " '34 alphabet inc. ● annual report part ii item 7 management ’ s discussion and anal ysis of financial condition and results of operations cash provided by operating activities our largest source of cash provided by operations are advertising revenues generated by google search & other properties, google network properties, and youtube properties. additionally, we generate cash through sales of apps and in - app purchases, and hardware ; and licensing and service fees, including fees received for google cloud offerings and subscription - based products. our primary uses of cash from operating activities include payments to distribution and google network partners, to employees for compensation, and to content providers. other uses of cash from operating activities include payments to suppliers for hardware, to tax authorities for income taxes, and other general corporate expenditures.',\n",
       " 'general and administrative expenses increased $ 2. 2 billion from 2021 to 2022. the increase was primarily driven by an increase in compensation expenses of $ 1. 1 billion, largely resulting from a 21 % increase in average headcount, and an increase in third - party services fees of $ 815 million. in addition, there was a $ 551 million increase to the allowance for credit losses for accounts receivable, as the prior year comparable period reflected a decline in the allowance. segment profitability the following table presents segment operating income ( loss ) ( in millions ). year ended december 31, 2021 2022 operating income ( loss ) : google services $ 91, 855 $ 86, 572 google cloud ( 3, 099 ) ( 2, 968 ) other bets ( 5, 281 ) ( 6, 083 ) corporate costs, unallocated ( 1 ) ( 4, 761 ) ( 2, 679 ) total income from operations $ 78, 714 $ 74, 842 ( 1 ) unallocated corporate costs primarily include corporate initiatives, corporate shared costs, such as finance and legal, including certain fines and']"
      ]
     },
     "execution_count": 37,
     "metadata": {},
     "output_type": "execute_result"
    }
   ],
   "source": [
    "ranked_docs[:5]"
   ]
  },
  {
   "cell_type": "markdown",
   "id": "557b4977-e611-4c8d-9ed2-1e3eb540e7ab",
   "metadata": {},
   "source": [
    "Only send the most relevant answers to the LLM"
   ]
  },
  {
   "cell_type": "code",
   "execution_count": 38,
   "id": "1f3e9f49-4c8b-4b5a-b421-f0219aafeac2",
   "metadata": {
    "tags": []
   },
   "outputs": [
    {
     "name": "stdout",
     "output_type": "stream",
     "text": [
      "What were the most important factors that contributed to increases in revenue?\n",
      "## Key Factors Contributing to Revenue Growth:\n",
      "\n",
      "Based on the provided information, the most important factors contributing to increases in revenue for Alphabet Inc. are:\n",
      "\n",
      "**1. App Store Enhancements:**\n",
      "\n",
      "* The launch of new features like custom store listings and targeted messaging significantly improved the ability of developers to reach and engage users, leading to increased app sales and in-app purchases.\n",
      "\n",
      "**2. Google Play Services:**\n",
      "\n",
      "* The report highlights the significant revenue generated through Google Play app sales and in-app purchases. These services provide a platform for developers to monetize their apps and contribute to Alphabet's overall revenue growth.\n",
      "\n",
      "**3. Advertising Revenue:**\n",
      "\n",
      "* The report mentions advertising revenues generated by Google Search & Other Properties, Google Network Properties, and YouTube Properties as the largest source of cash provided by operating activities. This indicates the continued importance of advertising revenue in driving the company's financial performance.\n",
      "\n",
      "**4. Cloud Services:**\n",
      "\n",
      "* While Google Cloud remains in the early stages of development, subscription-based products and licensing fees contribute to revenue growth. The report acknowledges the potential for further growth in this segment.\n",
      "\n",
      "**5. Hardware Sales:**\n",
      "\n",
      "* Sales of hardware, including devices and accessories, also contribute to revenue. However, the report does not provide specific information on the extent of hardware contribution compared to other revenue sources.\n",
      "\n",
      "**6. Service Fees:**\n",
      "\n",
      "* Licensing and service fees, including those received for Google Cloud offerings, provide additional sources of revenue. This diversification helps mitigate risks associated with overreliance on any single income stream.\n",
      "\n",
      "**Additional Points:**\n",
      "\n",
      "* Despite the revenue growth, the report acknowledges potential future challenges such as declining growth rates, downward pressure on operating margins, and competition.\n",
      "* The company's investments in employee compensation and third-party services fees have contributed to increased general and administrative expenses.\n",
      "\n",
      "**Overall, the information provided suggests that a combination of factors, including app store enhancements, strong advertising revenue, emerging cloud services, and hardware sales, have all contributed to Alphabet's revenue growth. However, the company faces challenges in maintaining this growth and expanding its operating margins.**\n"
     ]
    }
   ],
   "source": [
    "response = rag(query=original_query, retrieved_documents=ranked_docs[:5], model=model)\n",
    "print(original_query)\n",
    "print(response)"
   ]
  },
  {
   "cell_type": "markdown",
   "id": "bee7fd4d-d55f-49c4-b1c1-429860d8e2c1",
   "metadata": {
    "tags": []
   },
   "source": [
    "## Embedding Adapters\n",
    "\n",
    "Another improvement that we can make is instead of getting more answers and reranking, train the embedding model to work with our dataset based on user queries. This is a form a of fine tuning that you can do on your own.\n",
    "\n",
    "Generate queries that might be asked to a financial statement. If you had real users, you would use those queries instead of making them up."
   ]
  },
  {
   "cell_type": "code",
   "execution_count": 40,
   "id": "f53f92d7-21b9-42cf-a643-30759239f99c",
   "metadata": {
    "tags": []
   },
   "outputs": [
    {
     "name": "stdout",
     "output_type": "stream",
     "text": [
      "## Important questions for analyzing an annual report:\n",
      "\n",
      "1. What is the company's primary business activity?\n",
      "2. What are the company's main sources of revenue?\n",
      "3. How has the company's revenue trended over the past few years?\n",
      "4. What are the company's main expenses?\n",
      "5. How has the company's profitability changed over the past few years?\n",
      "6. What is the company's debt-to-equity ratio?\n",
      "7. How much cash does the company have on hand?\n",
      "8. How much debt does the company have?\n",
      "9. What are the company's major assets?\n",
      "10. What are the company's major liabilities?\n",
      "11. What is the company's outlook for the future?\n",
      "12. What are the company's key risks and challenges?\n",
      "13. What are the company's competitive advantages?\n",
      "14. How does the company's management team compare to its competitors?\n",
      "15. What are the company's environmental, social, and governance (ESG) initiatives?\n"
     ]
    }
   ],
   "source": [
    "def generate_queries(model):\n",
    "\n",
    "    prompt = (f'You are a helpful expert financial research assistant.\\n'\n",
    "    f'You help users analyze financial statements to better understand companies.\\n'\n",
    "    f'Suggest 10 to 15 short questions that are important to ask when analyzing an annual report.\\n'\n",
    "    f'Do not output any compound questions (questions with multiple sentences or conjunctions).\\n'\n",
    "    f'Output each question on a separate line divided by a newline.')\n",
    "    \n",
    "    responses = model.generate_content(prompt, stream=False)\n",
    "    return responses.text.split('\\n')\n",
    "\n",
    "generated_queries = generate_queries(model)\n",
    "for query in generated_queries:\n",
    "    print(query)"
   ]
  },
  {
   "cell_type": "markdown",
   "id": "a9bcc70e-5925-49ad-afc0-144dee81c7b8",
   "metadata": {},
   "source": [
    "Search answers for those queries."
   ]
  },
  {
   "cell_type": "code",
   "execution_count": 41,
   "id": "ad307798-d68c-420d-9f8a-fa4a29cdb95c",
   "metadata": {
    "tags": []
   },
   "outputs": [],
   "source": [
    "results = chroma_collection.query(query_texts=generated_queries, n_results=10, include=['documents', 'embeddings'])\n",
    "retrieved_documents = results['documents']"
   ]
  },
  {
   "cell_type": "markdown",
   "id": "c4a976cb-6105-427a-8aef-9cee550b3e28",
   "metadata": {},
   "source": [
    "Evaluate the results in 1 for relevant and -1 for irrelevant answers."
   ]
  },
  {
   "cell_type": "code",
   "execution_count": 42,
   "id": "58057117-16ff-4ffb-b570-cc1643dccf41",
   "metadata": {
    "tags": []
   },
   "outputs": [],
   "source": [
    "def evaluate_results(query, statement, model):\n",
    "\n",
    "    prompt = (f'You are a helpful expert financial research assistant.\\n'\n",
    "    f'You help users analyze financial statements to better understand companies.\\n'\n",
    "    f'For the given query, evaluate whether the following satement is relevant.\\n'\n",
    "    f'Output only \\'yes\\' or \\'no\\'.\\n'\n",
    "    f'Question: {query}, Statement: {statement}.')\n",
    "    \n",
    "    responses = model.generate_content(prompt, stream=False)\n",
    "    if responses.text == 'yes':\n",
    "        return 1\n",
    "    return -1\n",
    "\n",
    "retrieved_embeddings = results['embeddings']\n",
    "query_embeddings = embedding_function(generated_queries)"
   ]
  },
  {
   "cell_type": "markdown",
   "id": "77018de3-da49-4257-9db4-bf253a9e4b00",
   "metadata": {},
   "source": [
    "Extract the documents and queries into their own lists.\n"
   ]
  },
  {
   "cell_type": "code",
   "execution_count": 43,
   "id": "36c238a5-7f59-4fb6-bf96-1fe7d4a624ec",
   "metadata": {
    "tags": []
   },
   "outputs": [
    {
     "name": "stderr",
     "output_type": "stream",
     "text": [
      "100%|██████████| 17/17 [01:51<00:00,  6.57s/it]\n"
     ]
    },
    {
     "data": {
      "text/plain": [
       "170"
      ]
     },
     "execution_count": 43,
     "metadata": {},
     "output_type": "execute_result"
    }
   ],
   "source": [
    "adapter_query_embeddings = []\n",
    "adapter_doc_embeddings = []\n",
    "adapter_labels = []\n",
    "\n",
    "for q, query in enumerate(tqdm(generated_queries)):\n",
    "    for d, document in enumerate(retrieved_documents[q]):\n",
    "        adapter_query_embeddings.append(query_embeddings[q])\n",
    "        adapter_doc_embeddings.append(retrieved_embeddings[q][d])\n",
    "        adapter_labels.append(evaluate_results(query, document, model))\n",
    "\n",
    "len(adapter_labels)"
   ]
  },
  {
   "cell_type": "markdown",
   "id": "e2d9317a-6490-4f5c-9ea9-9d5028b2e5f4",
   "metadata": {},
   "source": [
    "Install PyTorch so that we can train the embedding model based on relevant answers.\n"
   ]
  },
  {
   "cell_type": "code",
   "execution_count": 44,
   "id": "8f21ac89-ceba-4863-9b39-fc6168f400b7",
   "metadata": {
    "tags": []
   },
   "outputs": [
    {
     "name": "stderr",
     "output_type": "stream",
     "text": [
      "huggingface/tokenizers: The current process just got forked, after parallelism has already been used. Disabling parallelism to avoid deadlocks...\n",
      "To disable this warning, you can either:\n",
      "\t- Avoid using `tokenizers` before the fork if possible\n",
      "\t- Explicitly set the environment variable TOKENIZERS_PARALLELISM=(true | false)\n"
     ]
    },
    {
     "name": "stdout",
     "output_type": "stream",
     "text": [
      "Requirement already satisfied: torch in /opt/conda/lib/python3.10/site-packages (2.5.1)\n",
      "Requirement already satisfied: filelock in /opt/conda/lib/python3.10/site-packages (from torch) (3.16.1)\n",
      "Requirement already satisfied: typing-extensions>=4.8.0 in /opt/conda/lib/python3.10/site-packages (from torch) (4.12.2)\n",
      "Requirement already satisfied: networkx in /opt/conda/lib/python3.10/site-packages (from torch) (3.4)\n",
      "Requirement already satisfied: jinja2 in /opt/conda/lib/python3.10/site-packages (from torch) (3.1.4)\n",
      "Requirement already satisfied: fsspec in /opt/conda/lib/python3.10/site-packages (from torch) (2024.9.0)\n",
      "Requirement already satisfied: nvidia-cuda-nvrtc-cu12==12.4.127 in /opt/conda/lib/python3.10/site-packages (from torch) (12.4.127)\n",
      "Requirement already satisfied: nvidia-cuda-runtime-cu12==12.4.127 in /opt/conda/lib/python3.10/site-packages (from torch) (12.4.127)\n",
      "Requirement already satisfied: nvidia-cuda-cupti-cu12==12.4.127 in /opt/conda/lib/python3.10/site-packages (from torch) (12.4.127)\n",
      "Requirement already satisfied: nvidia-cudnn-cu12==9.1.0.70 in /opt/conda/lib/python3.10/site-packages (from torch) (9.1.0.70)\n",
      "Requirement already satisfied: nvidia-cublas-cu12==12.4.5.8 in /opt/conda/lib/python3.10/site-packages (from torch) (12.4.5.8)\n",
      "Requirement already satisfied: nvidia-cufft-cu12==11.2.1.3 in /opt/conda/lib/python3.10/site-packages (from torch) (11.2.1.3)\n",
      "Requirement already satisfied: nvidia-curand-cu12==10.3.5.147 in /opt/conda/lib/python3.10/site-packages (from torch) (10.3.5.147)\n",
      "Requirement already satisfied: nvidia-cusolver-cu12==11.6.1.9 in /opt/conda/lib/python3.10/site-packages (from torch) (11.6.1.9)\n",
      "Requirement already satisfied: nvidia-cusparse-cu12==12.3.1.170 in /opt/conda/lib/python3.10/site-packages (from torch) (12.3.1.170)\n",
      "Requirement already satisfied: nvidia-nccl-cu12==2.21.5 in /opt/conda/lib/python3.10/site-packages (from torch) (2.21.5)\n",
      "Requirement already satisfied: nvidia-nvtx-cu12==12.4.127 in /opt/conda/lib/python3.10/site-packages (from torch) (12.4.127)\n",
      "Requirement already satisfied: nvidia-nvjitlink-cu12==12.4.127 in /opt/conda/lib/python3.10/site-packages (from torch) (12.4.127)\n",
      "Requirement already satisfied: triton==3.1.0 in /opt/conda/lib/python3.10/site-packages (from torch) (3.1.0)\n",
      "Requirement already satisfied: sympy==1.13.1 in /opt/conda/lib/python3.10/site-packages (from torch) (1.13.1)\n",
      "Requirement already satisfied: mpmath<1.4,>=1.1.0 in /opt/conda/lib/python3.10/site-packages (from sympy==1.13.1->torch) (1.3.0)\n",
      "Requirement already satisfied: MarkupSafe>=2.0 in /opt/conda/lib/python3.10/site-packages (from jinja2->torch) (3.0.1)\n"
     ]
    }
   ],
   "source": [
    "!pip install torch\n",
    "\n",
    "import torch"
   ]
  },
  {
   "cell_type": "code",
   "execution_count": 45,
   "id": "bdbc2b3e-6723-47bc-92d9-2936359d2111",
   "metadata": {
    "tags": []
   },
   "outputs": [],
   "source": [
    "adapter_query_embeddings = torch.Tensor(np.array(adapter_query_embeddings))\n",
    "adapter_doc_embeddings = torch.Tensor(np.array(adapter_doc_embeddings))\n",
    "adapter_labels = torch.Tensor(np.expand_dims(np.array(adapter_labels),1))\n",
    "\n",
    "dataset = torch.utils.data.TensorDataset(adapter_query_embeddings, adapter_doc_embeddings, adapter_labels)"
   ]
  },
  {
   "cell_type": "markdown",
   "id": "4e16600d-b16b-422d-92d5-615427263579",
   "metadata": {},
   "source": [
    "Set up the model with cosine similarity, so that embeddings with label 1 are similar and -1 are dissimilar."
   ]
  },
  {
   "cell_type": "code",
   "execution_count": 46,
   "id": "f8c99977-6874-4eda-92ea-52f5d0dc2b07",
   "metadata": {
    "tags": []
   },
   "outputs": [],
   "source": [
    "def model(query_embedding, document_embedding, adaptor_matrix):\n",
    "    updated_query_embedding = torch.matmul(adaptor_matrix, query_embedding)\n",
    "    return torch.cosine_similarity(updated_query_embedding, document_embedding, dim=0)"
   ]
  },
  {
   "cell_type": "markdown",
   "id": "0b9ca148-a655-45be-917e-9107dc1c1fb2",
   "metadata": {},
   "source": [
    "Compute the mean squared error (MSE) loss to see how close are we to the expected output."
   ]
  },
  {
   "cell_type": "code",
   "execution_count": 47,
   "id": "01722331-d0e0-4e5b-be2c-0bd8236e82cd",
   "metadata": {
    "tags": []
   },
   "outputs": [],
   "source": [
    "def mse_loss(query_embedding, document_embedding, adaptor_matrix, label):\n",
    "    return torch.nn.MSELoss()(model(query_embedding, document_embedding, adaptor_matrix), label)"
   ]
  },
  {
   "cell_type": "markdown",
   "id": "4e321825-c950-4f76-84fb-fab76a8fa25b",
   "metadata": {},
   "source": [
    "Initialize the adaptor matrix."
   ]
  },
  {
   "cell_type": "code",
   "execution_count": 48,
   "id": "4d355fab-bd36-4389-9236-ad08603edc69",
   "metadata": {
    "tags": []
   },
   "outputs": [],
   "source": [
    "mat_size = len(adapter_query_embeddings[0])\n",
    "adapter_matrix = torch.randn(mat_size, mat_size, requires_grad=True)"
   ]
  },
  {
   "cell_type": "markdown",
   "id": "f542ffb5-f32b-4231-9eb5-916d43da529f",
   "metadata": {},
   "source": [
    "Train the adaptor matrix using 100 steps by iteratively update a vector such that if I take that vector and multiply it by these inputs (query embeddings) then compare that result to this vector (this example's retrieved document vector), I get a score closer to (this example's -1 or 1 label)."
   ]
  },
  {
   "cell_type": "code",
   "execution_count": 49,
   "id": "491fec4e-6024-467f-99f9-408e661ab053",
   "metadata": {
    "tags": []
   },
   "outputs": [
    {
     "name": "stderr",
     "output_type": "stream",
     "text": [
      "  0%|          | 0/100 [00:00<?, ?it/s]/opt/conda/lib/python3.10/site-packages/torch/nn/modules/loss.py:608: UserWarning: Using a target size (torch.Size([1])) that is different to the input size (torch.Size([])). This will likely lead to incorrect results due to broadcasting. Please ensure they have the same size.\n",
      "  return F.mse_loss(input, target, reduction=self.reduction)\n",
      "100%|██████████| 100/100 [00:20<00:00,  4.85it/s]\n"
     ]
    }
   ],
   "source": [
    "min_loss = float('inf')\n",
    "best_matrix = None\n",
    "\n",
    "for epoch in tqdm(range(100)):\n",
    "    for query_embedding, document_embedding, label in dataset:\n",
    "        loss = mse_loss(query_embedding, document_embedding, adapter_matrix, label)\n",
    "\n",
    "        if loss < min_loss:\n",
    "            min_loss = loss\n",
    "            best_matrix = adapter_matrix.clone().detach().numpy()\n",
    "\n",
    "        loss.backward()\n",
    "        with torch.no_grad():\n",
    "            adapter_matrix -= 0.01 * adapter_matrix.grad\n",
    "            adapter_matrix.grad.zero_()       "
   ]
  },
  {
   "cell_type": "markdown",
   "id": "f4b85585-bddb-41c7-bc96-1f3d131d199c",
   "metadata": {},
   "source": [
    "Create a scaled vector based on the best matrix that we computed."
   ]
  },
  {
   "cell_type": "code",
   "execution_count": 50,
   "id": "03c66d1f-3d9c-49ed-8199-25e37ffced15",
   "metadata": {
    "tags": []
   },
   "outputs": [],
   "source": [
    "test_vector = torch.ones((mat_size,1))\n",
    "scaled_vector = np.matmul(best_matrix, test_vector).numpy()"
   ]
  },
  {
   "cell_type": "markdown",
   "id": "42fcc88a-b1f4-4e33-bd49-d964483e44d2",
   "metadata": {},
   "source": [
    "Plot the scale vector answers."
   ]
  },
  {
   "cell_type": "code",
   "execution_count": 51,
   "id": "e3ed1494-7a02-4d7a-b9c5-effd592b5756",
   "metadata": {
    "tags": []
   },
   "outputs": [
    {
     "data": {
      "image/png": "[encoded data removed]",
      "text/plain": [
       "<Figure size 640x480 with 1 Axes>"
      ]
     },
     "metadata": {},
     "output_type": "display_data"
    }
   ],
   "source": [
    "import matplotlib.pyplot as plt\n",
    "plt.bar(range(len(scaled_vector)), scaled_vector.flatten())\n",
    "plt.show()"
   ]
  },
  {
   "cell_type": "markdown",
   "id": "c5f5d4e0-25d9-406f-9e7e-b0f63d4d2ffd",
   "metadata": {},
   "source": [
    "Get the adapted query embeddings to compare them with the original values retrieved."
   ]
  },
  {
   "cell_type": "code",
   "execution_count": 52,
   "id": "cc657901-7672-4a91-8d4a-e7b9e4777847",
   "metadata": {
    "tags": []
   },
   "outputs": [
    {
     "name": "stderr",
     "output_type": "stream",
     "text": [
      "100%|██████████| 17/17 [00:00<00:00, 124.86it/s]\n",
      "100%|██████████| 17/17 [00:00<00:00, 172.91it/s]\n"
     ]
    }
   ],
   "source": [
    "query_embeddings = embedding_function(generated_queries)\n",
    "adapted_query_embeddings = np.matmul(best_matrix, np.array(query_embeddings).T).T\n",
    "\n",
    "projected_query_embeddings = project_embeddings(query_embeddings, umap_transform)\n",
    "projected_adapted_query_embeddings = project_embeddings(adapted_query_embeddings, umap_transform)"
   ]
  },
  {
   "cell_type": "code",
   "execution_count": 53,
   "id": "a0b95d6d-d16e-40e2-94be-dd616deededf",
   "metadata": {
    "tags": []
   },
   "outputs": [
    {
     "data": {
      "text/plain": [
       "<matplotlib.legend.Legend at 0x7fc9465a4ca0>"
      ]
     },
     "execution_count": 53,
     "metadata": {},
     "output_type": "execute_result"
    },
    {
     "data": {
      "image/png": "[encoded data removed]",
      "text/plain": [
       "<Figure size 640x480 with 1 Axes>"
      ]
     },
     "metadata": {},
     "output_type": "display_data"
    }
   ],
   "source": [
    "# Plot the projected query and retrieved documents in the embedding space\n",
    "plt.figure()\n",
    "plt.scatter(projected_dataset_embeddings[:, 0], projected_dataset_embeddings[:, 1], s=10, color='gray')\n",
    "plt.scatter(projected_query_embeddings[:, 0], projected_query_embeddings[:, 1], s=150, marker='X', color='r', label=\"original\")\n",
    "plt.scatter(projected_adapted_query_embeddings[:, 0], projected_adapted_query_embeddings[:, 1], s=150, marker='X', color='green', label=\"adapted\")\n",
    "\n",
    "plt.gca().set_aspect('equal', 'datalim')\n",
    "plt.title(\"Adapted Queries\")\n",
    "plt.axis('off')\n",
    "plt.legend()"
   ]
  },
  {
   "cell_type": "code",
   "execution_count": null,
   "id": "6599b71d-743c-4f61-862d-ce4afef1a55d",
   "metadata": {},
   "outputs": [],
   "source": []
  }
 ],
 "metadata": {
  "environment": {
   "kernel": "conda-base-py",
   "name": "workbench-notebooks.m125",
   "type": "gcloud",
   "uri": "us-docker.pkg.dev/deeplearning-platform-release/gcr.io/workbench-notebooks:m125"
  },
  "kernelspec": {
   "display_name": "Python 3 (ipykernel) (Local) (Local)",
   "language": "python",
   "name": "conda-base-py"
  },
  "language_info": {
   "codemirror_mode": {
    "name": "ipython",
    "version": 3
   },
   "file_extension": ".py",
   "mimetype": "text/x-python",
   "name": "python",
   "nbconvert_exporter": "python",
   "pygments_lexer": "ipython3",
   "version": "3.10.15"
  }
 },
 "nbformat": 4,
 "nbformat_minor": 5
}
